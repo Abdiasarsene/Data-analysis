{
 "cells": [
  {
   "attachments": {},
   "cell_type": "markdown",
   "metadata": {},
   "source": [
    "# Relation entre les symptomes d\"anxieté et l'image de soi chez les enfants du primaire."
   ]
  },
  {
   "attachments": {},
   "cell_type": "markdown",
   "metadata": {},
   "source": [
    "Cette étude vise à explorer la relation entre les symptômes d'anxiété et l'image de soi chez les enfants du primaire, ainsi que le rôle médiateur des conflits dans la relation enseignant-élève. En utilisant des données issues d'une vaste étude universitaire sur le développement psychosocial des enfants, nous avons examiné si un niveau élevé d'anxiété est associé à une image de soi plus négative et comment les conflits dans la relation enseignant-élève peuvent influencer cette relation.\n",
    "\n",
    "#### ****Questions de recherche****\n",
    "\n",
    "1. Le niveau de symptômes d’anxiété dans le groupe 6 est-il en corrélation avec le niveau d’estime de soi la même année ?\n",
    "2. Dans quelle mesure l’association entre les symptômes d’anxiété en 6e année et l’estime de soi la même année est-elle médiée par les conflits dans la relation enseignant-élève rapportés par l’enseignant ?\n",
    "\n",
    "#### ****Hypothèses****\n",
    "- Il existe une relation négative entre le prédicteur « niveau de symptômes d'anxiété » et la variable dépendante « image de soi globale » dans le groupe 6.\n",
    "- Pour les élèves ayant plus de conflits dans la relation enseignant-élève, le niveau de symptômes d'anxiété du groupe 6 sera associé à une image globale de soi plus négative dans le groupe 6 que pour les élèves ayant moins de conflits dans la relation enseignant-élève.\n",
    "\n",
    "## Méthodologie de recherches\n",
    "\n",
    "### Choix des variables et sources des données\n",
    "\n",
    "Le but de notre analyse de données consiste à examiner le lien qui existe  entre les symptômes d’anxiété et l’image de soi chez les enfants de primaire et à  aussi explorer le rôle médiateur des conflits dans la relation enseignant-élève dans cette relation. Un tel succès à notre analyse requiert des variables et des données se ralliant très bien à notre étude de recherche.  Ainsi, notre variable de réponse ou encore notre variable cible  est ***l’image de soi globale***. Avec cette variable, nous ferons des analyses de données qui nous fourniront des insights précieux pour répondre à notre étude de recherche. Notre base de données mesure cette variable cible par (échelle « image de soi générale » du questionnaire CBSK : SC4.6, SC8.6, SC12.6, SC16.6, SC20.6R, SC24.6).\n",
    "\n",
    "Seule la variable cible de notre jeu de données ne permet pas de réaliser une étude profonde avec des résultats pertinents. À ces mots, nos variables d’étude comprennent également des variables nommées variables indépendantes ou encore variables prédictrices. Dans notre contexte d’analyse, il s’agit bien des variables comme : ***Du niveau de symptômes d'anxiété*** (échelle GAD du questionnaire RCADS : RC1.6, RC5.6, RC9.6, RC11.6, RC13.6) et ***des conflits dans la relation enseignant-élève*** (questionnaire LLRV : LL1.6, LL2.6, LL3.6, LL4.6, LL5.6).\n",
    "\n",
    "Le choix de nos variables, la nature de notre jeu de données et les objectifs de notre étude nous permettent de réaliser une étude quantitative afin de fournir des conclusions significatives. **Les données pour cette analyse sont collectées durant une étude universitaire plus vaste qui examine le développement psychosocial des enfants à l'école primaire.**\n",
    "\n",
    "### Descriptions de la modélisation statistique\n",
    "L’objet dont faite question  notre recherche nous impose certaines modélisations statistiques comme des tests d’hypothèses et des régressions linaires. D’abord, une ***analyse de corrélation précisément les corrélations de Pearson ou Sperman*** dans le but de  test le score  de symptôme d’anxiété et le score d’image de soi globale pour le groupe 6.\n",
    "\n",
    "Ensuite, une ***régression linéaire*** très importante pour examiner la relation entre le niveau de symptômes d'anxiété (VI) et l'image de soi globale (VD). Nous continuerons toujours avec une régression pour l’évaluation du rôle des conflits dans la relation enseignant-élève (VM).\n",
    "Une analyse qui inclura : \n",
    "- Symptômes d'anxiété (VI) → Image de soi globale (VD)\n",
    "- Symptômes d'anxiété (VI) → Conflits relation enseignant-élève (VM)\n",
    "- Symptômes d'anxiété (VI) et Conflits relation enseignant-élève (VM) → Image de soi globale (VD)\n",
    "\n"
   ]
  },
  {
   "attachments": {},
   "cell_type": "markdown",
   "metadata": {},
   "source": [
    "## Importation des librairies d'analyse"
   ]
  },
  {
   "cell_type": "code",
   "execution_count": 2,
   "metadata": {},
   "outputs": [],
   "source": [
    "# importation des librairies\n",
    "import pandas as pd\n",
    "import missingno as msno\n",
    "import matplotlib.pyplot as plt\n",
    "import seaborn as sns\n",
    "import statsmodels.api as sm\n",
    "from scipy.stats import pearsonr\n",
    "from statsmodels.stats.diagnostic import het_breuschpagan\n",
    "from scipy.stats import shapiro\n",
    "from statsmodels.stats.stattools import durbin_watson"
   ]
  },
  {
   "attachments": {},
   "cell_type": "markdown",
   "metadata": {},
   "source": [
    "## Importation de jeu de données brut"
   ]
  },
  {
   "cell_type": "code",
   "execution_count": 3,
   "metadata": {},
   "outputs": [
    {
     "data": {
      "text/plain": [
       "Index(['ALIAS_ID', 'COH', 'MALE', 'AGE_p.6', 'AGE_p.7', 'RC_c001.6',\n",
       "       'RC_c001.7', 'RC_c005.6', 'RC_c005.7', 'RC_c009.6',\n",
       "       ...\n",
       "       'LL_t002.6', 'LL_t002.7', 'LL_t003.6', 'LL_t003.7', 'LL_t004.6',\n",
       "       'LL_t004.7', 'LL_t005.6', 'LL_t005.7', 'LL_tCONm.6', 'LL_tCONm.7'],\n",
       "      dtype='object', length=111)"
      ]
     },
     "execution_count": 3,
     "metadata": {},
     "output_type": "execute_result"
    }
   ],
   "source": [
    "spss=pd.read_excel(r'c:\\Users\\ARMIDE Informatique\\Desktop\\20220609 - (GROUP)-1.xlsx')\n",
    "spss.columns"
   ]
  },
  {
   "attachments": {},
   "cell_type": "markdown",
   "metadata": {},
   "source": [
    "Notre jeu de données reçue présente des variables qui sont inutiles, plus encores des variables qui nécessitent de faire des sommes afin de créer de nouvelles:\n",
    "\n",
    "#### Création du prédicteur la variable ***le score total pour les symptômes d'anxieté***"
   ]
  },
  {
   "cell_type": "code",
   "execution_count": 4,
   "metadata": {},
   "outputs": [],
   "source": [
    "spss['scoreTotalAnxiety'] = spss[[\"RC_c001.6\", \"RC_c005.6\", \"RC_c009.6\", \"RC_c011.6\", \"RC_c013.6\", \"RC_c014.6\"\n",
    "]].sum(axis=1)"
   ]
  },
  {
   "attachments": {},
   "cell_type": "markdown",
   "metadata": {},
   "source": [
    "#### Création de la variable cible ***le score total pour l'image de soi***\n",
    "\n",
    "Filtrage des colonnes démarrant par la lettre \"S\" et suppression des colonnes commençant par le chiffre 7\n"
   ]
  },
  {
   "cell_type": "code",
   "execution_count": 10,
   "metadata": {},
   "outputs": [],
   "source": [
    "\n",
    "# Filtrer les colonnes qui commencent par la lettre 'S'\n",
    "s_columns = [col for col in spss.columns if col.startswith('S')]\n",
    "\n",
    "# Supprimer les colonnes qui se terminent par le chiffre 7\n",
    "filtered_columns = [col for col in s_columns if not col.endswith('.7')]\n",
    "\n",
    "# Calculer le score total pour l'image de soi\n",
    "spss['scoreTotalImageSoi'] = spss[['SC_c004.6', 'SC_c008.6','SC_c012.6','SC_c016.6','SC_c020.6']].sum(axis=1)\n"
   ]
  },
  {
   "attachments": {},
   "cell_type": "markdown",
   "metadata": {},
   "source": [
    "#### Création du prédicteur la variable ***le score total pour les conflits dans la relation enseignant-élève***"
   ]
  },
  {
   "cell_type": "code",
   "execution_count": 13,
   "metadata": {},
   "outputs": [],
   "source": [
    "# Filtrer les colonnes qui commencent par la lettre 'S'\n",
    "s_columns = [col for col in spss.columns if col.startswith('L')]\n",
    "\n",
    "# Supprimer les colonnes qui se terminent par le chiffre 7\n",
    "filtered_columns = [col for col in s_columns if not col.endswith('.7')]\n",
    "\n",
    "# Calculer le score total pour les conflits dans la relation enseignant-élève\n",
    "spss['scoreTotalConflit'] = spss[['LL_t001.6', 'LL_t002.6', 'LL_t003.6', 'LL_t004.6', 'LL_t005.6']].sum(axis=1)"
   ]
  },
  {
   "attachments": {},
   "cell_type": "markdown",
   "metadata": {},
   "source": [
    "Après le feature engineering, nous créererons un nouveau dataframe.Dataframe qui sera notre nouvelle base de données pour la suite de notre analyse. \n",
    "\n",
    "***Nouvelle base de données pour notre analyse***"
   ]
  },
  {
   "cell_type": "code",
   "execution_count": 14,
   "metadata": {},
   "outputs": [
    {
     "data": {
      "text/html": [
       "<div>\n",
       "<style scoped>\n",
       "    .dataframe tbody tr th:only-of-type {\n",
       "        vertical-align: middle;\n",
       "    }\n",
       "\n",
       "    .dataframe tbody tr th {\n",
       "        vertical-align: top;\n",
       "    }\n",
       "\n",
       "    .dataframe thead th {\n",
       "        text-align: right;\n",
       "    }\n",
       "</style>\n",
       "<table border=\"1\" class=\"dataframe\">\n",
       "  <thead>\n",
       "    <tr style=\"text-align: right;\">\n",
       "      <th></th>\n",
       "      <th>MALE</th>\n",
       "      <th>AGE_p.6</th>\n",
       "      <th>scoreTotalConflit</th>\n",
       "      <th>scoreTotalImageSoi</th>\n",
       "      <th>scoreTotalAnxiety</th>\n",
       "    </tr>\n",
       "  </thead>\n",
       "  <tbody>\n",
       "    <tr>\n",
       "      <th>0</th>\n",
       "      <td>1</td>\n",
       "      <td>10.380</td>\n",
       "      <td>3</td>\n",
       "      <td>12</td>\n",
       "      <td>-994</td>\n",
       "    </tr>\n",
       "    <tr>\n",
       "      <th>1</th>\n",
       "      <td>0</td>\n",
       "      <td>10.250</td>\n",
       "      <td>0</td>\n",
       "      <td>12</td>\n",
       "      <td>-993</td>\n",
       "    </tr>\n",
       "    <tr>\n",
       "      <th>2</th>\n",
       "      <td>1</td>\n",
       "      <td>9.255</td>\n",
       "      <td>0</td>\n",
       "      <td>12</td>\n",
       "      <td>-998</td>\n",
       "    </tr>\n",
       "    <tr>\n",
       "      <th>3</th>\n",
       "      <td>0</td>\n",
       "      <td>-999.000</td>\n",
       "      <td>-4995</td>\n",
       "      <td>-4995</td>\n",
       "      <td>-5994</td>\n",
       "    </tr>\n",
       "    <tr>\n",
       "      <th>4</th>\n",
       "      <td>0</td>\n",
       "      <td>10.460</td>\n",
       "      <td>0</td>\n",
       "      <td>9</td>\n",
       "      <td>-991</td>\n",
       "    </tr>\n",
       "    <tr>\n",
       "      <th>...</th>\n",
       "      <td>...</td>\n",
       "      <td>...</td>\n",
       "      <td>...</td>\n",
       "      <td>...</td>\n",
       "      <td>...</td>\n",
       "    </tr>\n",
       "    <tr>\n",
       "      <th>783</th>\n",
       "      <td>1</td>\n",
       "      <td>-999.000</td>\n",
       "      <td>-4995</td>\n",
       "      <td>-4995</td>\n",
       "      <td>-5994</td>\n",
       "    </tr>\n",
       "    <tr>\n",
       "      <th>784</th>\n",
       "      <td>1</td>\n",
       "      <td>9.750</td>\n",
       "      <td>0</td>\n",
       "      <td>12</td>\n",
       "      <td>-998</td>\n",
       "    </tr>\n",
       "    <tr>\n",
       "      <th>785</th>\n",
       "      <td>1</td>\n",
       "      <td>10.110</td>\n",
       "      <td>0</td>\n",
       "      <td>12</td>\n",
       "      <td>-997</td>\n",
       "    </tr>\n",
       "    <tr>\n",
       "      <th>786</th>\n",
       "      <td>0</td>\n",
       "      <td>9.820</td>\n",
       "      <td>0</td>\n",
       "      <td>12</td>\n",
       "      <td>-994</td>\n",
       "    </tr>\n",
       "    <tr>\n",
       "      <th>787</th>\n",
       "      <td>1</td>\n",
       "      <td>9.260</td>\n",
       "      <td>9</td>\n",
       "      <td>12</td>\n",
       "      <td>-986</td>\n",
       "    </tr>\n",
       "  </tbody>\n",
       "</table>\n",
       "<p>788 rows × 5 columns</p>\n",
       "</div>"
      ],
      "text/plain": [
       "     MALE  AGE_p.6  scoreTotalConflit  scoreTotalImageSoi  scoreTotalAnxiety\n",
       "0       1   10.380                  3                  12               -994\n",
       "1       0   10.250                  0                  12               -993\n",
       "2       1    9.255                  0                  12               -998\n",
       "3       0 -999.000              -4995               -4995              -5994\n",
       "4       0   10.460                  0                   9               -991\n",
       "..    ...      ...                ...                 ...                ...\n",
       "783     1 -999.000              -4995               -4995              -5994\n",
       "784     1    9.750                  0                  12               -998\n",
       "785     1   10.110                  0                  12               -997\n",
       "786     0    9.820                  0                  12               -994\n",
       "787     1    9.260                  9                  12               -986\n",
       "\n",
       "[788 rows x 5 columns]"
      ]
     },
     "execution_count": 14,
     "metadata": {},
     "output_type": "execute_result"
    }
   ],
   "source": [
    "\n",
    "datasoi =spss[['MALE', 'AGE_p.6','scoreTotalConflit','scoreTotalImageSoi','scoreTotalAnxiety']]\n",
    "datasoi #affichage de la base de données"
   ]
  },
  {
   "attachments": {},
   "cell_type": "markdown",
   "metadata": {},
   "source": [
    "## Analyse exploratoire des données\n",
    "\n",
    "### Préparation des données\n",
    "\n",
    "Avant toutes analyses, le traitement de la base de données reste une étape très cruciale pour assurer la fiabilité des résultats. Triste est de constater que notre jeu de données présentait des erreurs à corriger. Vu la complexité du jeu de données, nous commencerons par une manipulation et pré-traitement minutieux. "
   ]
  },
  {
   "cell_type": "code",
   "execution_count": 30,
   "metadata": {},
   "outputs": [
    {
     "name": "stdout",
     "output_type": "stream",
     "text": [
      "les doublons sont :  16\n"
     ]
    },
    {
     "data": {
      "image/png": "[encoded data removed]",
      "text/plain": [
       "<Figure size 2500x1000 with 3 Axes>"
      ]
     },
     "metadata": {},
     "output_type": "display_data"
    }
   ],
   "source": [
    "# vérification des doublons, des valeurs abérrantes et manquantes\n",
    "\n",
    "# valeurs manquantes\n",
    "msno.bar(datasoi, color='blue')\n",
    "\n",
    "# doublons\n",
    "doublons=datasoi.duplicated().sum()\n",
    "print(\"les doublons sont : \",doublons)\n"
   ]
  },
  {
   "cell_type": "code",
   "execution_count": 31,
   "metadata": {},
   "outputs": [
    {
     "name": "stdout",
     "output_type": "stream",
     "text": [
      "les valeurs aberrantes sont : \n"
     ]
    },
    {
     "data": {
      "text/html": [
       "<div>\n",
       "<style scoped>\n",
       "    .dataframe tbody tr th:only-of-type {\n",
       "        vertical-align: middle;\n",
       "    }\n",
       "\n",
       "    .dataframe tbody tr th {\n",
       "        vertical-align: top;\n",
       "    }\n",
       "\n",
       "    .dataframe thead th {\n",
       "        text-align: right;\n",
       "    }\n",
       "</style>\n",
       "<table border=\"1\" class=\"dataframe\">\n",
       "  <thead>\n",
       "    <tr style=\"text-align: right;\">\n",
       "      <th></th>\n",
       "      <th>MALE</th>\n",
       "      <th>AGE_p.6</th>\n",
       "      <th>scoreTotalConflit</th>\n",
       "      <th>scoreTotalImageSoi</th>\n",
       "      <th>scoreTotalAnxiety</th>\n",
       "    </tr>\n",
       "  </thead>\n",
       "  <tbody>\n",
       "    <tr>\n",
       "      <th>5</th>\n",
       "      <td>1</td>\n",
       "      <td>9.290</td>\n",
       "      <td>2</td>\n",
       "      <td>13</td>\n",
       "      <td>-992</td>\n",
       "    </tr>\n",
       "    <tr>\n",
       "      <th>10</th>\n",
       "      <td>0</td>\n",
       "      <td>10.005</td>\n",
       "      <td>0</td>\n",
       "      <td>11</td>\n",
       "      <td>-997</td>\n",
       "    </tr>\n",
       "    <tr>\n",
       "      <th>30</th>\n",
       "      <td>0</td>\n",
       "      <td>10.345</td>\n",
       "      <td>0</td>\n",
       "      <td>10</td>\n",
       "      <td>-994</td>\n",
       "    </tr>\n",
       "    <tr>\n",
       "      <th>37</th>\n",
       "      <td>0</td>\n",
       "      <td>10.150</td>\n",
       "      <td>2</td>\n",
       "      <td>12</td>\n",
       "      <td>-997</td>\n",
       "    </tr>\n",
       "    <tr>\n",
       "      <th>40</th>\n",
       "      <td>0</td>\n",
       "      <td>9.680</td>\n",
       "      <td>1</td>\n",
       "      <td>12</td>\n",
       "      <td>-998</td>\n",
       "    </tr>\n",
       "    <tr>\n",
       "      <th>...</th>\n",
       "      <td>...</td>\n",
       "      <td>...</td>\n",
       "      <td>...</td>\n",
       "      <td>...</td>\n",
       "      <td>...</td>\n",
       "    </tr>\n",
       "    <tr>\n",
       "      <th>755</th>\n",
       "      <td>1</td>\n",
       "      <td>9.565</td>\n",
       "      <td>1</td>\n",
       "      <td>12</td>\n",
       "      <td>-997</td>\n",
       "    </tr>\n",
       "    <tr>\n",
       "      <th>765</th>\n",
       "      <td>1</td>\n",
       "      <td>10.400</td>\n",
       "      <td>0</td>\n",
       "      <td>11</td>\n",
       "      <td>-991</td>\n",
       "    </tr>\n",
       "    <tr>\n",
       "      <th>770</th>\n",
       "      <td>0</td>\n",
       "      <td>10.500</td>\n",
       "      <td>0</td>\n",
       "      <td>10</td>\n",
       "      <td>-993</td>\n",
       "    </tr>\n",
       "    <tr>\n",
       "      <th>774</th>\n",
       "      <td>0</td>\n",
       "      <td>9.500</td>\n",
       "      <td>0</td>\n",
       "      <td>11</td>\n",
       "      <td>-998</td>\n",
       "    </tr>\n",
       "    <tr>\n",
       "      <th>778</th>\n",
       "      <td>0</td>\n",
       "      <td>10.480</td>\n",
       "      <td>0</td>\n",
       "      <td>11</td>\n",
       "      <td>-997</td>\n",
       "    </tr>\n",
       "  </tbody>\n",
       "</table>\n",
       "<p>158 rows × 5 columns</p>\n",
       "</div>"
      ],
      "text/plain": [
       "     MALE  AGE_p.6  scoreTotalConflit  scoreTotalImageSoi  scoreTotalAnxiety\n",
       "5       1    9.290                  2                  13               -992\n",
       "10      0   10.005                  0                  11               -997\n",
       "30      0   10.345                  0                  10               -994\n",
       "37      0   10.150                  2                  12               -997\n",
       "40      0    9.680                  1                  12               -998\n",
       "..    ...      ...                ...                 ...                ...\n",
       "755     1    9.565                  1                  12               -997\n",
       "765     1   10.400                  0                  11               -991\n",
       "770     0   10.500                  0                  10               -993\n",
       "774     0    9.500                  0                  11               -998\n",
       "778     0   10.480                  0                  11               -997\n",
       "\n",
       "[158 rows x 5 columns]"
      ]
     },
     "execution_count": 31,
     "metadata": {},
     "output_type": "execute_result"
    }
   ],
   "source": [
    "# détection des outliers avec la méthode iqr\n",
    "Q1 = datasoi.quantile(0.25)\n",
    "Q3 = datasoi.quantile(0.75)\n",
    "IQR = Q3-Q1\n",
    "outliers=((datasoi<(Q1-1.5*IQR))|(datasoi >(Q3+1.5*IQR)))\n",
    "valeurs_aberrantes=datasoi[outliers.any(axis=1)]\n",
    "\n",
    "# affichage des résultats\n",
    "print(\"les valeurs aberrantes sont : \")\n",
    "valeurs_aberrantes"
   ]
  },
  {
   "cell_type": "code",
   "execution_count": null,
   "metadata": {},
   "outputs": [],
   "source": [
    "# suppression des lignes contenant des outliers\n",
    "print('Nouvelle base de données sans les outliers :')\n",
    "datasoia=datasoi.drop(valeurs_aberrantes.index)\n",
    "datasoi=datasoia.drop(doublons)\n",
    "datasoi"
   ]
  },
  {
   "cell_type": "markdown",
   "metadata": {},
   "source": [
    "Tout d’abord, nous commenceront par traiter les valeurs manquantes, les doublons et les valeurs aberrantes. Le résultat de notre analyse ci-dessous montre que notre base de données ne comporte aucune valeur manquante qui pourrait compromettre la fiabilité de notre  analyse. Ce qui jusque là se révèle très bon pour les résultats à venir. Mais, en ce qui concerne les doublons, plus précisément les valeurs répétées, nous en avons trouvé 16  dans le jeu de données.\n",
    "\n",
    "Par ailleurs, le nettoyage du jeu de données ne s’est pas arrêté là, car il contenait également près de 119  valeurs aberrantes. Laissez de telles valeurs aberrantes risquent de compromettre de notre analyse de données. "
   ]
  }
 ],
 "metadata": {
  "kernelspec": {
   "display_name": "Python 3",
   "language": "python",
   "name": "python3"
  },
  "language_info": {
   "codemirror_mode": {
    "name": "ipython",
    "version": 3
   },
   "file_extension": ".py",
   "mimetype": "text/x-python",
   "name": "python",
   "nbconvert_exporter": "python",
   "pygments_lexer": "ipython3",
   "version": "3.12.2"
  },
  "orig_nbformat": 4
 },
 "nbformat": 4,
 "nbformat_minor": 2
}
