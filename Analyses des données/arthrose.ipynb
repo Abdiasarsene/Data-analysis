{
 "cells": [
  {
   "attachments": {},
   "cell_type": "markdown",
   "metadata": {},
   "source": [
    "# Évaluer l'impact des facteurs biomédicaux sur la probabilité de développer de l'arthrose\n",
    "\n",
    "**Contexte**\n",
    "\n",
    "La clinique  Vital Joint Wellness Clinic souhaite mieux comprendre les facteurs contribuant au développement de l'arthrose chez ses patients. L'objectif est d'identifier l'impact des différents facteurs biomédicaux sur la probabilité de développer cette condition. Ces facteurs comprennent les niveaux de sucre dans le sang (glycémie), les niveaux de lipides dans le sang (cholestérol), l'âge, le genre, et la prise de traitements médicaux.\n",
    "\n",
    "## Mise en situation\n",
    "\n",
    "Le but de cette mission consiste à démystifier à combien de possibilité près de développer une arthrose. La clinique  Vital Joint Wellness Clinic  souhaite précisément connaître les facteurs qui contribuent à cette maladie. En effet, cette clinique, dans son bilan semestriel réalise que plusieurs sont les patients qui souffrent de cette maladie.  \n",
    "\n",
    "**Question de recherche : Quel est l'impact des facteurs biomédicaux sur la probabilité de développer de l'arthrose ?**\n",
    "\n"
   ]
  },
  {
   "attachments": {},
   "cell_type": "markdown",
   "metadata": {},
   "source": [
    "## Importation des bibliothèques pour notre mission"
   ]
  },
  {
   "cell_type": "code",
   "execution_count": 1,
   "metadata": {},
   "outputs": [],
   "source": [
    "# Importation des bibliothèques\n",
    "import pandas as pd\n",
    "import missingno as msno\n",
    "import seaborn as sns\n",
    "import matplotlib.pyplot as plt\n",
    "import statsmodels.api as sm\n",
    "from sklearn.model_selection import train_test_split\n",
    "from sklearn.metrics import accuracy_score, confusion_matrix, classification_report, roc_curve, auc"
   ]
  },
  {
   "attachments": {},
   "cell_type": "markdown",
   "metadata": {},
   "source": [
    "## Importation de la base de données"
   ]
  },
  {
   "cell_type": "code",
   "execution_count": 2,
   "metadata": {},
   "outputs": [
    {
     "data": {
      "text/html": [
       "<div>\n",
       "<style scoped>\n",
       "    .dataframe tbody tr th:only-of-type {\n",
       "        vertical-align: middle;\n",
       "    }\n",
       "\n",
       "    .dataframe tbody tr th {\n",
       "        vertical-align: top;\n",
       "    }\n",
       "\n",
       "    .dataframe thead th {\n",
       "        text-align: right;\n",
       "    }\n",
       "</style>\n",
       "<table border=\"1\" class=\"dataframe\">\n",
       "  <thead>\n",
       "    <tr style=\"text-align: right;\">\n",
       "      <th></th>\n",
       "      <th>Unnamed: 0.2</th>\n",
       "      <th>Arthrose</th>\n",
       "      <th>age</th>\n",
       "      <th>taux_de_cholesterol</th>\n",
       "      <th>taux_de_glycemie</th>\n",
       "      <th>Medicament</th>\n",
       "      <th>pression_arterielle</th>\n",
       "      <th>Unnamed: 0</th>\n",
       "      <th>Sexe</th>\n",
       "      <th>Medicament_code</th>\n",
       "      <th>Arthrose_code</th>\n",
       "      <th>Unnamed: 0.1</th>\n",
       "      <th>Sexe.1</th>\n",
       "    </tr>\n",
       "  </thead>\n",
       "  <tbody>\n",
       "    <tr>\n",
       "      <th>0</th>\n",
       "      <td>0</td>\n",
       "      <td>oui</td>\n",
       "      <td>52</td>\n",
       "      <td>165</td>\n",
       "      <td>73</td>\n",
       "      <td>Rosuvastatine</td>\n",
       "      <td>175</td>\n",
       "      <td>0</td>\n",
       "      <td>0</td>\n",
       "      <td>0</td>\n",
       "      <td>0</td>\n",
       "      <td>0</td>\n",
       "      <td>Masculin</td>\n",
       "    </tr>\n",
       "    <tr>\n",
       "      <th>1</th>\n",
       "      <td>1</td>\n",
       "      <td>oui</td>\n",
       "      <td>39</td>\n",
       "      <td>228</td>\n",
       "      <td>104</td>\n",
       "      <td>Simvastatine</td>\n",
       "      <td>132</td>\n",
       "      <td>1</td>\n",
       "      <td>1</td>\n",
       "      <td>1</td>\n",
       "      <td>0</td>\n",
       "      <td>1</td>\n",
       "      <td>Masculin</td>\n",
       "    </tr>\n",
       "    <tr>\n",
       "      <th>2</th>\n",
       "      <td>2</td>\n",
       "      <td>non</td>\n",
       "      <td>69</td>\n",
       "      <td>229</td>\n",
       "      <td>86</td>\n",
       "      <td>Rosuvastatine</td>\n",
       "      <td>125</td>\n",
       "      <td>2</td>\n",
       "      <td>0</td>\n",
       "      <td>0</td>\n",
       "      <td>1</td>\n",
       "      <td>2</td>\n",
       "      <td>Feminin</td>\n",
       "    </tr>\n",
       "    <tr>\n",
       "      <th>3</th>\n",
       "      <td>3</td>\n",
       "      <td>oui</td>\n",
       "      <td>70</td>\n",
       "      <td>161</td>\n",
       "      <td>107</td>\n",
       "      <td>Rosuvastatine</td>\n",
       "      <td>99</td>\n",
       "      <td>3</td>\n",
       "      <td>1</td>\n",
       "      <td>0</td>\n",
       "      <td>0</td>\n",
       "      <td>3</td>\n",
       "      <td>Masculin</td>\n",
       "    </tr>\n",
       "    <tr>\n",
       "      <th>4</th>\n",
       "      <td>4</td>\n",
       "      <td>non</td>\n",
       "      <td>43</td>\n",
       "      <td>289</td>\n",
       "      <td>136</td>\n",
       "      <td>Rosuvastatine</td>\n",
       "      <td>112</td>\n",
       "      <td>4</td>\n",
       "      <td>0</td>\n",
       "      <td>0</td>\n",
       "      <td>1</td>\n",
       "      <td>4</td>\n",
       "      <td>Feminin</td>\n",
       "    </tr>\n",
       "    <tr>\n",
       "      <th>...</th>\n",
       "      <td>...</td>\n",
       "      <td>...</td>\n",
       "      <td>...</td>\n",
       "      <td>...</td>\n",
       "      <td>...</td>\n",
       "      <td>...</td>\n",
       "      <td>...</td>\n",
       "      <td>...</td>\n",
       "      <td>...</td>\n",
       "      <td>...</td>\n",
       "      <td>...</td>\n",
       "      <td>...</td>\n",
       "      <td>...</td>\n",
       "    </tr>\n",
       "    <tr>\n",
       "      <th>95</th>\n",
       "      <td>95</td>\n",
       "      <td>non</td>\n",
       "      <td>65</td>\n",
       "      <td>219</td>\n",
       "      <td>121</td>\n",
       "      <td>Doliprane</td>\n",
       "      <td>115</td>\n",
       "      <td>95</td>\n",
       "      <td>0</td>\n",
       "      <td>2</td>\n",
       "      <td>1</td>\n",
       "      <td>95</td>\n",
       "      <td>Feminin</td>\n",
       "    </tr>\n",
       "    <tr>\n",
       "      <th>96</th>\n",
       "      <td>96</td>\n",
       "      <td>oui</td>\n",
       "      <td>69</td>\n",
       "      <td>260</td>\n",
       "      <td>133</td>\n",
       "      <td>Rosuvastatine</td>\n",
       "      <td>179</td>\n",
       "      <td>96</td>\n",
       "      <td>1</td>\n",
       "      <td>0</td>\n",
       "      <td>0</td>\n",
       "      <td>96</td>\n",
       "      <td>Feminin</td>\n",
       "    </tr>\n",
       "    <tr>\n",
       "      <th>97</th>\n",
       "      <td>97</td>\n",
       "      <td>oui</td>\n",
       "      <td>79</td>\n",
       "      <td>214</td>\n",
       "      <td>95</td>\n",
       "      <td>Simvastatine</td>\n",
       "      <td>161</td>\n",
       "      <td>97</td>\n",
       "      <td>1</td>\n",
       "      <td>1</td>\n",
       "      <td>0</td>\n",
       "      <td>97</td>\n",
       "      <td>Masculin</td>\n",
       "    </tr>\n",
       "    <tr>\n",
       "      <th>98</th>\n",
       "      <td>98</td>\n",
       "      <td>oui</td>\n",
       "      <td>86</td>\n",
       "      <td>270</td>\n",
       "      <td>130</td>\n",
       "      <td>Rosuvastatine</td>\n",
       "      <td>140</td>\n",
       "      <td>98</td>\n",
       "      <td>0</td>\n",
       "      <td>0</td>\n",
       "      <td>0</td>\n",
       "      <td>98</td>\n",
       "      <td>Masculin</td>\n",
       "    </tr>\n",
       "    <tr>\n",
       "      <th>99</th>\n",
       "      <td>99</td>\n",
       "      <td>non</td>\n",
       "      <td>84</td>\n",
       "      <td>161</td>\n",
       "      <td>100</td>\n",
       "      <td>Simvastatine</td>\n",
       "      <td>91</td>\n",
       "      <td>99</td>\n",
       "      <td>1</td>\n",
       "      <td>1</td>\n",
       "      <td>1</td>\n",
       "      <td>99</td>\n",
       "      <td>Feminin</td>\n",
       "    </tr>\n",
       "  </tbody>\n",
       "</table>\n",
       "<p>100 rows × 13 columns</p>\n",
       "</div>"
      ],
      "text/plain": [
       "    Unnamed: 0.2 Arthrose  age  taux_de_cholesterol  taux_de_glycemie  \\\n",
       "0              0      oui   52                  165                73   \n",
       "1              1      oui   39                  228               104   \n",
       "2              2      non   69                  229                86   \n",
       "3              3      oui   70                  161               107   \n",
       "4              4      non   43                  289               136   \n",
       "..           ...      ...  ...                  ...               ...   \n",
       "95            95      non   65                  219               121   \n",
       "96            96      oui   69                  260               133   \n",
       "97            97      oui   79                  214                95   \n",
       "98            98      oui   86                  270               130   \n",
       "99            99      non   84                  161               100   \n",
       "\n",
       "       Medicament  pression_arterielle  Unnamed: 0  Sexe  Medicament_code  \\\n",
       "0   Rosuvastatine                  175           0     0                0   \n",
       "1    Simvastatine                  132           1     1                1   \n",
       "2   Rosuvastatine                  125           2     0                0   \n",
       "3   Rosuvastatine                   99           3     1                0   \n",
       "4   Rosuvastatine                  112           4     0                0   \n",
       "..            ...                  ...         ...   ...              ...   \n",
       "95      Doliprane                  115          95     0                2   \n",
       "96  Rosuvastatine                  179          96     1                0   \n",
       "97   Simvastatine                  161          97     1                1   \n",
       "98  Rosuvastatine                  140          98     0                0   \n",
       "99   Simvastatine                   91          99     1                1   \n",
       "\n",
       "    Arthrose_code  Unnamed: 0.1    Sexe.1  \n",
       "0               0             0  Masculin  \n",
       "1               0             1  Masculin  \n",
       "2               1             2   Feminin  \n",
       "3               0             3  Masculin  \n",
       "4               1             4   Feminin  \n",
       "..            ...           ...       ...  \n",
       "95              1            95   Feminin  \n",
       "96              0            96   Feminin  \n",
       "97              0            97  Masculin  \n",
       "98              0            98  Masculin  \n",
       "99              1            99   Feminin  \n",
       "\n",
       "[100 rows x 13 columns]"
      ]
     },
     "execution_count": 2,
     "metadata": {},
     "output_type": "execute_result"
    }
   ],
   "source": [
    "donne_arthrose = pd.read_excel(r'c:\\Users\\ARMIDE Informatique\\Desktop\\Formation pratique\\DonneSante.xlsx')\n",
    "\n",
    "# afficher les données\n",
    "donne_arthrose "
   ]
  },
  {
   "attachments": {},
   "cell_type": "markdown",
   "metadata": {},
   "source": [
    "## 1. Pré-traitement de la base de données"
   ]
  },
  {
   "cell_type": "code",
   "execution_count": 3,
   "metadata": {},
   "outputs": [
    {
     "data": {
      "text/plain": [
       "<Axes: >"
      ]
     },
     "execution_count": 3,
     "metadata": {},
     "output_type": "execute_result"
    },
    {
     "data": {
      "image/png": "[encoded data removed]",
      "text/plain": [
       "<Figure size 2500x1000 with 3 Axes>"
      ]
     },
     "metadata": {},
     "output_type": "display_data"
    }
   ],
   "source": [
    "#écarter les variables catégorielles dans la base de données\n",
    "numericData = donne_arthrose.select_dtypes(exclude=['object']) \n",
    "\n",
    "#supprimer certaines variables inutiles dans la base de données\n",
    "execptData =numericData.drop(columns=['Unnamed: 0.2', 'Unnamed: 0.1', 'Unnamed: 0']) \n",
    "\n",
    "#afficher graphiquement les données manquantes de la base de données\n",
    "msno.bar(execptData, color='green') "
   ]
  },
  {
   "attachments": {},
   "cell_type": "markdown",
   "metadata": {},
   "source": [
    "### 1.1. Détection des valeurs abérrantes"
   ]
  },
  {
   "cell_type": "code",
   "execution_count": 4,
   "metadata": {},
   "outputs": [
    {
     "name": "stdout",
     "output_type": "stream",
     "text": [
      "les valeurs aberrantes sont : \n"
     ]
    },
    {
     "data": {
      "text/html": [
       "<div>\n",
       "<style scoped>\n",
       "    .dataframe tbody tr th:only-of-type {\n",
       "        vertical-align: middle;\n",
       "    }\n",
       "\n",
       "    .dataframe tbody tr th {\n",
       "        vertical-align: top;\n",
       "    }\n",
       "\n",
       "    .dataframe thead th {\n",
       "        text-align: right;\n",
       "    }\n",
       "</style>\n",
       "<table border=\"1\" class=\"dataframe\">\n",
       "  <thead>\n",
       "    <tr style=\"text-align: right;\">\n",
       "      <th></th>\n",
       "      <th>age</th>\n",
       "      <th>taux_de_cholesterol</th>\n",
       "      <th>taux_de_glycemie</th>\n",
       "      <th>pression_arterielle</th>\n",
       "      <th>Sexe</th>\n",
       "      <th>Medicament_code</th>\n",
       "      <th>Arthrose_code</th>\n",
       "    </tr>\n",
       "  </thead>\n",
       "  <tbody>\n",
       "  </tbody>\n",
       "</table>\n",
       "</div>"
      ],
      "text/plain": [
       "Empty DataFrame\n",
       "Columns: [age, taux_de_cholesterol, taux_de_glycemie, pression_arterielle, Sexe, Medicament_code, Arthrose_code]\n",
       "Index: []"
      ]
     },
     "execution_count": 4,
     "metadata": {},
     "output_type": "execute_result"
    }
   ],
   "source": [
    "#détection les valeurs abérrantes par la méthode IQR\n",
    "Q1 =  execptData.quantile(0.25)\n",
    "Q3 =  execptData.quantile(0.75)\n",
    "IQR = Q3 - Q1\n",
    "\n",
    "outliers = ((execptData<(Q1-1.5*IQR))|(execptData >(Q3+1.5*IQR)))\n",
    "valeurs_aberrantes=execptData[outliers.any(axis=1)]\n",
    "\n",
    "# affichage des résultats\n",
    "print(\"les valeurs aberrantes sont : \")\n",
    "valeurs_aberrantes\n"
   ]
  },
  {
   "attachments": {},
   "cell_type": "markdown",
   "metadata": {},
   "source": [
    "Les résultats de la méthode IQR appliquée sur notre jeu de données montre que les variables ne présentent pas de valeurs abérrantes. Ce qui est un facteur très prometteur sur la performance du modèle qu'on utilisera. De plus, le graphique ci-dessus montre avec certitude que notre base de données ne présente ni de doublons, ni de valeurs manquantes, avançant très bien notre étude."
   ]
  },
  {
   "attachments": {},
   "cell_type": "markdown",
   "metadata": {},
   "source": [
    "## 2. Analyse exploratoire des données\n",
    "\n",
    "### 2.1. Statistique descriptive"
   ]
  },
  {
   "cell_type": "code",
   "execution_count": 5,
   "metadata": {},
   "outputs": [
    {
     "data": {
      "text/html": [
       "<div>\n",
       "<style scoped>\n",
       "    .dataframe tbody tr th:only-of-type {\n",
       "        vertical-align: middle;\n",
       "    }\n",
       "\n",
       "    .dataframe tbody tr th {\n",
       "        vertical-align: top;\n",
       "    }\n",
       "\n",
       "    .dataframe thead th {\n",
       "        text-align: right;\n",
       "    }\n",
       "</style>\n",
       "<table border=\"1\" class=\"dataframe\">\n",
       "  <thead>\n",
       "    <tr style=\"text-align: right;\">\n",
       "      <th></th>\n",
       "      <th>age</th>\n",
       "      <th>taux_de_cholesterol</th>\n",
       "      <th>taux_de_glycemie</th>\n",
       "      <th>pression_arterielle</th>\n",
       "      <th>Sexe</th>\n",
       "      <th>Medicament_code</th>\n",
       "      <th>Arthrose_code</th>\n",
       "    </tr>\n",
       "  </thead>\n",
       "  <tbody>\n",
       "    <tr>\n",
       "      <th>count</th>\n",
       "      <td>100.000000</td>\n",
       "      <td>100.000000</td>\n",
       "      <td>100.000000</td>\n",
       "      <td>100.000000</td>\n",
       "      <td>100.00</td>\n",
       "      <td>100.000000</td>\n",
       "      <td>100.000000</td>\n",
       "    </tr>\n",
       "    <tr>\n",
       "      <th>mean</th>\n",
       "      <td>56.100000</td>\n",
       "      <td>227.600000</td>\n",
       "      <td>111.790000</td>\n",
       "      <td>131.870000</td>\n",
       "      <td>0.55</td>\n",
       "      <td>1.090000</td>\n",
       "      <td>0.480000</td>\n",
       "    </tr>\n",
       "    <tr>\n",
       "      <th>std</th>\n",
       "      <td>20.637076</td>\n",
       "      <td>44.599678</td>\n",
       "      <td>20.131033</td>\n",
       "      <td>25.040837</td>\n",
       "      <td>0.50</td>\n",
       "      <td>0.842015</td>\n",
       "      <td>0.502117</td>\n",
       "    </tr>\n",
       "    <tr>\n",
       "      <th>min</th>\n",
       "      <td>20.000000</td>\n",
       "      <td>150.000000</td>\n",
       "      <td>72.000000</td>\n",
       "      <td>90.000000</td>\n",
       "      <td>0.00</td>\n",
       "      <td>0.000000</td>\n",
       "      <td>0.000000</td>\n",
       "    </tr>\n",
       "    <tr>\n",
       "      <th>25%</th>\n",
       "      <td>37.750000</td>\n",
       "      <td>186.250000</td>\n",
       "      <td>95.000000</td>\n",
       "      <td>111.500000</td>\n",
       "      <td>0.00</td>\n",
       "      <td>0.000000</td>\n",
       "      <td>0.000000</td>\n",
       "    </tr>\n",
       "    <tr>\n",
       "      <th>50%</th>\n",
       "      <td>57.000000</td>\n",
       "      <td>229.000000</td>\n",
       "      <td>114.000000</td>\n",
       "      <td>130.000000</td>\n",
       "      <td>1.00</td>\n",
       "      <td>1.000000</td>\n",
       "      <td>0.000000</td>\n",
       "    </tr>\n",
       "    <tr>\n",
       "      <th>75%</th>\n",
       "      <td>74.000000</td>\n",
       "      <td>269.250000</td>\n",
       "      <td>127.000000</td>\n",
       "      <td>154.000000</td>\n",
       "      <td>1.00</td>\n",
       "      <td>2.000000</td>\n",
       "      <td>1.000000</td>\n",
       "    </tr>\n",
       "    <tr>\n",
       "      <th>max</th>\n",
       "      <td>90.000000</td>\n",
       "      <td>299.000000</td>\n",
       "      <td>150.000000</td>\n",
       "      <td>179.000000</td>\n",
       "      <td>1.00</td>\n",
       "      <td>2.000000</td>\n",
       "      <td>1.000000</td>\n",
       "    </tr>\n",
       "  </tbody>\n",
       "</table>\n",
       "</div>"
      ],
      "text/plain": [
       "              age  taux_de_cholesterol  taux_de_glycemie  pression_arterielle  \\\n",
       "count  100.000000           100.000000        100.000000           100.000000   \n",
       "mean    56.100000           227.600000        111.790000           131.870000   \n",
       "std     20.637076            44.599678         20.131033            25.040837   \n",
       "min     20.000000           150.000000         72.000000            90.000000   \n",
       "25%     37.750000           186.250000         95.000000           111.500000   \n",
       "50%     57.000000           229.000000        114.000000           130.000000   \n",
       "75%     74.000000           269.250000        127.000000           154.000000   \n",
       "max     90.000000           299.000000        150.000000           179.000000   \n",
       "\n",
       "         Sexe  Medicament_code  Arthrose_code  \n",
       "count  100.00       100.000000     100.000000  \n",
       "mean     0.55         1.090000       0.480000  \n",
       "std      0.50         0.842015       0.502117  \n",
       "min      0.00         0.000000       0.000000  \n",
       "25%      0.00         0.000000       0.000000  \n",
       "50%      1.00         1.000000       0.000000  \n",
       "75%      1.00         2.000000       1.000000  \n",
       "max      1.00         2.000000       1.000000  "
      ]
     },
     "execution_count": 5,
     "metadata": {},
     "output_type": "execute_result"
    }
   ],
   "source": [
    "statistic= execptData.describe()\n",
    "statistic"
   ]
  },
  {
   "attachments": {},
   "cell_type": "markdown",
   "metadata": {},
   "source": [
    "### 2.2. Visualisation de la distribution des variables numériques et catégorielles"
   ]
  },
  {
   "cell_type": "code",
   "execution_count": 6,
   "metadata": {},
   "outputs": [
    {
     "name": "stderr",
     "output_type": "stream",
     "text": [
      "C:\\Users\\ARMIDE Informatique\\AppData\\Local\\Temp\\ipykernel_6824\\25188584.py:7: FutureWarning: \n",
      "\n",
      "Passing `palette` without assigning `hue` is deprecated and will be removed in v0.14.0. Assign the `x` variable to `hue` and set `legend=False` for the same effect.\n",
      "\n",
      "  sns.countplot(x='Arthrose_code', data=dataexpect, palette='muted',color='purple')\n"
     ]
    },
    {
     "data": {
      "text/plain": [
       "[Text(0.5, 1.0, 'Histogramme et densité des variables')]"
      ]
     },
     "execution_count": 6,
     "metadata": {},
     "output_type": "execute_result"
    },
    {
     "data": {
      "image/png": "[encoded data removed]",
      "text/plain": [
       "<Figure size 1400x600 with 2 Axes>"
      ]
     },
     "metadata": {},
     "output_type": "display_data"
    }
   ],
   "source": [
    "dataexpect = donne_arthrose.drop(columns=['Unnamed: 0.2', 'Unnamed: 0.1', 'Unnamed: 0'])\n",
    "fig, ax =plt.subplots(1,2,figsize=(14,6))\n",
    "sns.histplot(dataexpect['Arthrose_code'], kde=True, color='blue', ax=ax[0])\n",
    "ax[0].set(\n",
    "    title='Histogramme et densité des variables'\n",
    ")\n",
    "sns.countplot(x='Arthrose_code', data=dataexpect, palette='muted',color='purple')\n",
    "ax[1].set(\n",
    "    title='Distribution des variables catégorielles'\n",
    ")"
   ]
  },
  {
   "attachments": {},
   "cell_type": "markdown",
   "metadata": {},
   "source": [
    "Avant tout, nous avons réalisé une EDA  afin de connaître les relations qui existent entre la variable cible et les prédicteurs. Les visualisations des données ci-dessous réalisées montre que notre jeu de données ne contient pas d’outliers ou des valeurs manquantes qui pourraient biaiser les résultats. De plus, l’histogramme et le countplot réalisés sont des graphiques qui ont permis de voir la relation de la cible et des prédicteurs."
   ]
  },
  {
   "attachments": {},
   "cell_type": "markdown",
   "metadata": {},
   "source": [
    "## 2.3. Normalisation des données\n",
    "\n",
    "La normalisation est l'une des techniques du feature engineering qui aide à plus parfaire les données avant l'entraînement et l'évaluation de la performance prédictive. Plus précisément, c'est une méthode qui va transformer les valeurs de nos variables comprises entre 0 et 1."
   ]
  },
  {
   "cell_type": "code",
   "execution_count": 31,
   "metadata": {},
   "outputs": [
    {
     "data": {
      "text/html": [
       "<div>\n",
       "<style scoped>\n",
       "    .dataframe tbody tr th:only-of-type {\n",
       "        vertical-align: middle;\n",
       "    }\n",
       "\n",
       "    .dataframe tbody tr th {\n",
       "        vertical-align: top;\n",
       "    }\n",
       "\n",
       "    .dataframe thead th {\n",
       "        text-align: right;\n",
       "    }\n",
       "</style>\n",
       "<table border=\"1\" class=\"dataframe\">\n",
       "  <thead>\n",
       "    <tr style=\"text-align: right;\">\n",
       "      <th></th>\n",
       "      <th>age</th>\n",
       "      <th>taux_de_cholesterol</th>\n",
       "      <th>taux_de_glycemie</th>\n",
       "      <th>pression_arterielle</th>\n",
       "      <th>Sexe</th>\n",
       "      <th>Medicament_code</th>\n",
       "      <th>Arthrose_code</th>\n",
       "    </tr>\n",
       "  </thead>\n",
       "  <tbody>\n",
       "    <tr>\n",
       "      <th>0</th>\n",
       "      <td>0.457143</td>\n",
       "      <td>0.100671</td>\n",
       "      <td>0.012821</td>\n",
       "      <td>0.955056</td>\n",
       "      <td>0.0</td>\n",
       "      <td>0.0</td>\n",
       "      <td>0.0</td>\n",
       "    </tr>\n",
       "    <tr>\n",
       "      <th>1</th>\n",
       "      <td>0.271429</td>\n",
       "      <td>0.523490</td>\n",
       "      <td>0.410256</td>\n",
       "      <td>0.471910</td>\n",
       "      <td>1.0</td>\n",
       "      <td>0.5</td>\n",
       "      <td>0.0</td>\n",
       "    </tr>\n",
       "    <tr>\n",
       "      <th>2</th>\n",
       "      <td>0.700000</td>\n",
       "      <td>0.530201</td>\n",
       "      <td>0.179487</td>\n",
       "      <td>0.393258</td>\n",
       "      <td>0.0</td>\n",
       "      <td>0.0</td>\n",
       "      <td>1.0</td>\n",
       "    </tr>\n",
       "    <tr>\n",
       "      <th>3</th>\n",
       "      <td>0.714286</td>\n",
       "      <td>0.073826</td>\n",
       "      <td>0.448718</td>\n",
       "      <td>0.101124</td>\n",
       "      <td>1.0</td>\n",
       "      <td>0.0</td>\n",
       "      <td>0.0</td>\n",
       "    </tr>\n",
       "    <tr>\n",
       "      <th>4</th>\n",
       "      <td>0.328571</td>\n",
       "      <td>0.932886</td>\n",
       "      <td>0.820513</td>\n",
       "      <td>0.247191</td>\n",
       "      <td>0.0</td>\n",
       "      <td>0.0</td>\n",
       "      <td>1.0</td>\n",
       "    </tr>\n",
       "    <tr>\n",
       "      <th>...</th>\n",
       "      <td>...</td>\n",
       "      <td>...</td>\n",
       "      <td>...</td>\n",
       "      <td>...</td>\n",
       "      <td>...</td>\n",
       "      <td>...</td>\n",
       "      <td>...</td>\n",
       "    </tr>\n",
       "    <tr>\n",
       "      <th>95</th>\n",
       "      <td>0.642857</td>\n",
       "      <td>0.463087</td>\n",
       "      <td>0.628205</td>\n",
       "      <td>0.280899</td>\n",
       "      <td>0.0</td>\n",
       "      <td>1.0</td>\n",
       "      <td>1.0</td>\n",
       "    </tr>\n",
       "    <tr>\n",
       "      <th>96</th>\n",
       "      <td>0.700000</td>\n",
       "      <td>0.738255</td>\n",
       "      <td>0.782051</td>\n",
       "      <td>1.000000</td>\n",
       "      <td>1.0</td>\n",
       "      <td>0.0</td>\n",
       "      <td>0.0</td>\n",
       "    </tr>\n",
       "    <tr>\n",
       "      <th>97</th>\n",
       "      <td>0.842857</td>\n",
       "      <td>0.429530</td>\n",
       "      <td>0.294872</td>\n",
       "      <td>0.797753</td>\n",
       "      <td>1.0</td>\n",
       "      <td>0.5</td>\n",
       "      <td>0.0</td>\n",
       "    </tr>\n",
       "    <tr>\n",
       "      <th>98</th>\n",
       "      <td>0.942857</td>\n",
       "      <td>0.805369</td>\n",
       "      <td>0.743590</td>\n",
       "      <td>0.561798</td>\n",
       "      <td>0.0</td>\n",
       "      <td>0.0</td>\n",
       "      <td>0.0</td>\n",
       "    </tr>\n",
       "    <tr>\n",
       "      <th>99</th>\n",
       "      <td>0.914286</td>\n",
       "      <td>0.073826</td>\n",
       "      <td>0.358974</td>\n",
       "      <td>0.011236</td>\n",
       "      <td>1.0</td>\n",
       "      <td>0.5</td>\n",
       "      <td>1.0</td>\n",
       "    </tr>\n",
       "  </tbody>\n",
       "</table>\n",
       "<p>100 rows × 7 columns</p>\n",
       "</div>"
      ],
      "text/plain": [
       "         age  taux_de_cholesterol  taux_de_glycemie  pression_arterielle  \\\n",
       "0   0.457143             0.100671          0.012821             0.955056   \n",
       "1   0.271429             0.523490          0.410256             0.471910   \n",
       "2   0.700000             0.530201          0.179487             0.393258   \n",
       "3   0.714286             0.073826          0.448718             0.101124   \n",
       "4   0.328571             0.932886          0.820513             0.247191   \n",
       "..       ...                  ...               ...                  ...   \n",
       "95  0.642857             0.463087          0.628205             0.280899   \n",
       "96  0.700000             0.738255          0.782051             1.000000   \n",
       "97  0.842857             0.429530          0.294872             0.797753   \n",
       "98  0.942857             0.805369          0.743590             0.561798   \n",
       "99  0.914286             0.073826          0.358974             0.011236   \n",
       "\n",
       "    Sexe  Medicament_code  Arthrose_code  \n",
       "0    0.0              0.0            0.0  \n",
       "1    1.0              0.5            0.0  \n",
       "2    0.0              0.0            1.0  \n",
       "3    1.0              0.0            0.0  \n",
       "4    0.0              0.0            1.0  \n",
       "..   ...              ...            ...  \n",
       "95   0.0              1.0            1.0  \n",
       "96   1.0              0.0            0.0  \n",
       "97   1.0              0.5            0.0  \n",
       "98   0.0              0.0            0.0  \n",
       "99   1.0              0.5            1.0  \n",
       "\n",
       "[100 rows x 7 columns]"
      ]
     },
     "execution_count": 31,
     "metadata": {},
     "output_type": "execute_result"
    }
   ],
   "source": [
    "from sklearn.preprocessing import MinMaxScaler\n",
    "min_max_scaler= MinMaxScaler()\n",
    "variables =['age', 'taux_de_cholesterol', 'taux_de_glycemie', 'pression_arterielle','Sexe', 'Medicament_code', 'Arthrose_code']\n",
    "data_normalized= execptData.copy()\n",
    "data_normalized[variables] = min_max_scaler.fit_transform(execptData[variables])\n",
    "data_normalized"
   ]
  },
  {
   "attachments": {},
   "cell_type": "markdown",
   "metadata": {},
   "source": [
    "## 3. Entraînement du modèle\n",
    "\n",
    "### 3.1. Division des données en sous-ensemble d'entraînement et de test"
   ]
  },
  {
   "cell_type": "code",
   "execution_count": 38,
   "metadata": {},
   "outputs": [],
   "source": [
    "\n",
    "from sklearn.linear_model import LogisticRegression\n",
    "\n",
    "# Assuming 'data_normalized' is your DataFrame with normalized data\n",
    "y = data_normalized['Arthrose_code']  # Target variable\n",
    "x = data_normalized[['age', 'taux_de_cholesterol', 'taux_de_glycemie', 'pression_arterielle', 'Sexe', 'Medicament_code']]  # Predictors\n",
    "\n",
    "# Train-test split\n",
    "x_train, x_test, y_train, y_test = train_test_split(x, y, test_size=0.2, random_state=42)\n"
   ]
  },
  {
   "attachments": {},
   "cell_type": "markdown",
   "metadata": {},
   "source": [
    "### 3.2. Ajustement du modèle"
   ]
  },
  {
   "cell_type": "code",
   "execution_count": 39,
   "metadata": {},
   "outputs": [
    {
     "name": "stdout",
     "output_type": "stream",
     "text": [
      "Coefficients: [-0.28376802 -0.46718689 -0.3034121  -0.05119438 -0.21412542 -0.1695693 ]\n",
      "Intercept: 0.6740521034235385\n"
     ]
    }
   ],
   "source": [
    "# Initialize and fit the model\n",
    "model = LogisticRegression()\n",
    "model.fit(x_train, y_train)\n",
    "\n",
    "# Retrieve coefficients and intercept\n",
    "coefficients = model.coef_[0]\n",
    "intercept = model.intercept_[0]\n",
    "\n",
    "# Display results\n",
    "print(\"Coefficients:\", coefficients)\n",
    "print(\"Intercept:\", intercept)"
   ]
  },
  {
   "attachments": {},
   "cell_type": "markdown",
   "metadata": {},
   "source": [
    "Le coefficient de \"**age**\" est **\"-0.28376802\"**. Cela signifie que pour chaque année d'augmentation de l'âge, les chances de Arthrose_code diminuent de exp(-0.28376802), où exp représente la fonction exponentielle.\n",
    "\n",
    "De même, pour \"**taux_de_cholesterol**\", un coefficient de **\"-0.46718689\"** indique que pour chaque unité d'augmentation du taux de cholestérol, les chances de Arthrose_code diminuent de exp(-0.46718689).\n",
    "\n",
    "**Résumé :** Les résultats de l'ajustement avec la régression logistique montre que nos prédicteurs présentent tous des coéfficients négatifs. Ce qui signifie qu'un coefficient négatif diminue le risque de développer une arthrose. Il est crucial de noter que ces interprétations sont basées sur l'hypothèse que le modèle est approprié pour les données et que les conditions de validité de la régression logistique sont respectées (par exemple, linéarité en logarithme des cotes, absence de multicolinéarité significative, etc.)\n",
    "\n",
    "Par contre, malgré que les coéfficients offrent un bon résultat, fort est de constater que les coéfficients ne sont significativement statistiques. \n",
    "\n",
    "**Important :** A partir de là, il serait judicieux d’explorer d’autres variables ou modèles afin d’améliorer la prédiction et la probabilité  de développer de l’arthrose chez les patients de la clinique Vital Joint Wellness Clinic."
   ]
  },
  {
   "attachments": {},
   "cell_type": "markdown",
   "metadata": {},
   "source": [
    "## 4. Evaluation de la performance prédictive\n",
    "\n",
    "A la base, les résultats de notre entraînement de modèle sont largement suffisants pour envoyer une note à la clinique sur les prochaines actions à mener. Mais, il est préférable de tester la capacité prédictive de notre modèle afin de savoir avec précision ce qui incombent l’entreprise de faire. Pour cela, nous allons utiliser l’algorithme de l’apprentissage automatique (machine learning) et voici les résultats de notre analyse :  \n",
    "\n",
    "### 4.1. Histogramme de la probabilité de prédiction"
   ]
  },
  {
   "cell_type": "code",
   "execution_count": 41,
   "metadata": {},
   "outputs": [
    {
     "data": {
      "image/png": "[encoded data removed]",
      "text/plain": [
       "<Figure size 640x480 with 1 Axes>"
      ]
     },
     "metadata": {},
     "output_type": "display_data"
    }
   ],
   "source": [
    "# Prédiction\n",
    "y_pred = model.predict(x_test)\n",
    "\n",
    "# Probabilité de la prédiction\n",
    "y_pred_proba = model.predict_proba(x_test)[:, 1]\n",
    "\n",
    "# Histogramme de la probabilité de prédiction\n",
    "plt.hist(y_pred_proba, bins=10, edgecolor='k')\n",
    "plt.xlabel('Probabilité de prédiction')\n",
    "plt.ylabel('Fréquence')\n",
    "plt.title('Histogramme des probabilités de prédiction')\n",
    "plt.show()"
   ]
  },
  {
   "attachments": {},
   "cell_type": "markdown",
   "metadata": {},
   "source": [
    "Ce graphique montre clairement une distribution centrée autour d'une probabilité moyenne, avec une variabilité modérée autour de cette valeur centrale. Ce qui peut indiquer une incertitude modérée dans les prédictions du modèle."
   ]
  },
  {
   "attachments": {},
   "cell_type": "markdown",
   "metadata": {},
   "source": [
    "### 4.2. Métriques de performances"
   ]
  },
  {
   "cell_type": "code",
   "execution_count": 42,
   "metadata": {},
   "outputs": [
    {
     "name": "stdout",
     "output_type": "stream",
     "text": [
      "Accuracy: 0.5\n",
      "Classification Report:\n",
      "              precision    recall  f1-score   support\n",
      "\n",
      "         0.0       0.50      0.80      0.62        10\n",
      "         1.0       0.50      0.20      0.29        10\n",
      "\n",
      "    accuracy                           0.50        20\n",
      "   macro avg       0.50      0.50      0.45        20\n",
      "weighted avg       0.50      0.50      0.45        20\n",
      "\n"
     ]
    }
   ],
   "source": [
    "# Calcul des métriques de performance\n",
    "accuracy = accuracy_score(y_test, y_pred)\n",
    "class_report = classification_report(y_test, y_pred)\n",
    "conf_matrix = confusion_matrix(y_test, y_pred)\n",
    "fpr, tpr, _ = roc_curve(y_test, y_pred_proba)\n",
    "roc_auc = auc(fpr, tpr)\n",
    "\n",
    "# Affichage de l'accuracy et du rapport de classification\n",
    "print('Accuracy:', accuracy)\n",
    "print('Classification Report:')\n",
    "print(class_report)"
   ]
  },
  {
   "attachments": {},
   "cell_type": "markdown",
   "metadata": {},
   "source": [
    "- **Accuracy et Métriques de Classification**\n",
    "\n",
    "L'accuracy globale de 50 % indique que votre modèle prédit correctement la classe pour la moitié des exemples. Cependant, comme vous l'avez mentionné, l'accuracy seule peut être trompeuse, surtout avec des classes déséquilibrées.\n",
    "\n",
    "- **F1-score et Interprétation**\n",
    "\n",
    "Pour la classe 0, un F1-score de 0,62 indique une mesure raisonnable de précision et de rappel combinés. En revanche, pour la classe 1, un F1-score de 0,29 est significativement plus bas, suggérant que le modèle a des difficultés à bien prédire cette classe."
   ]
  },
  {
   "attachments": {},
   "cell_type": "markdown",
   "metadata": {},
   "source": [
    "#### Matrice de confusion"
   ]
  },
  {
   "cell_type": "code",
   "execution_count": 43,
   "metadata": {},
   "outputs": [
    {
     "data": {
      "image/png": "[encoded data removed]",
      "text/plain": [
       "<Figure size 640x480 with 2 Axes>"
      ]
     },
     "metadata": {},
     "output_type": "display_data"
    }
   ],
   "source": [
    "# Affichage de la matrice de confusion sous forme graphique\n",
    "sns.heatmap(conf_matrix, annot=True, fmt='d', cmap='Blues', xticklabels=['Class 0', 'Class 1'], yticklabels=['Class 0', 'Class 1'])\n",
    "plt.xlabel('Prédiction')\n",
    "plt.ylabel('Réel')\n",
    "plt.title('Matrice de confusion')\n",
    "plt.show()"
   ]
  },
  {
   "cell_type": "code",
   "execution_count": null,
   "metadata": {},
   "outputs": [
    {
     "ename": "",
     "evalue": "",
     "output_type": "error",
     "traceback": [
      "\u001b[1;31mÉchec du démarrage du Kernel. \n",
      "\u001b[1;31mUnable to start Kernel 'Python 3.12.2' due to a timeout waiting for the ports to get used. \n",
      "\u001b[1;31mView Jupyter <a href='command:jupyter.viewOutput'>log</a> for further details."
     ]
    }
   ],
   "source": [
    "\n",
    "\n",
    "# Création de la figure avec subplots\n",
    "fig, axes = plt.subplots(2, 2, figsize=(12, 10))\n",
    "\n",
    "# Histogramme des probabilités de prédiction\n",
    "axes[0, 0].hist(y_pred_proba, bins=10, edgecolor='k')\n",
    "axes[0, 0].set_xlabel('Probabilité de prédiction')\n",
    "axes[0, 0].set_ylabel('Fréquence')\n",
    "axes[0, 0].set_title('Histogramme des probabilités de prédiction')\n",
    "\n",
    "# Matrice de confusion\n",
    "sns.heatmap(conf_matrix, annot=True, fmt='d', cmap='Blues', xticklabels=['Class 0', 'Class 1'], yticklabels=['Class 0', 'Class 1'], ax=axes[0, 1])\n",
    "axes[0, 1].set_xlabel('Prédiction')\n",
    "axes[0, 1].set_ylabel('Réel')\n",
    "axes[0, 1].set_title('Matrice de confusion')\n",
    "\n",
    "# Courbe ROC\n",
    "axes[1, 0].plot(fpr, tpr, color='darkorange', lw=2, label='Courbe ROC (area = %0.2f)' % roc_auc)\n",
    "axes[1, 0].plot([0, 1], [0, 1], color='navy', lw=2, linestyle='--')\n",
    "axes[1, 0].set_xlim([0.0, 1.0])\n",
    "axes[1, 0].set_ylim([0.0, 1.05])\n",
    "axes[1, 0].set_xlabel('Taux de faux positifs (FPR)')\n",
    "axes[1, 0].set_ylabel('Taux de vrais positifs (TPR)')\n",
    "axes[1, 0].set_title('Receiver Operating Characteristic (ROC)')\n",
    "axes[1, 0].legend(loc=\"lower right\")\n",
    "\n",
    "# Supprimer le subplot vide\n",
    "fig.delaxes(axes[1, 1])\n",
    "\n",
    "# Ajustement de l'espacement entre les sous-graphes\n",
    "fig.tight_layout()\n",
    "\n",
    "# Affichage de la figure\n",
    "plt.show()\n"
   ]
  },
  {
   "cell_type": "code",
   "execution_count": null,
   "metadata": {},
   "outputs": [
    {
     "ename": "",
     "evalue": "",
     "output_type": "error",
     "traceback": [
      "\u001b[1;31mÉchec du démarrage du Kernel. \n",
      "\u001b[1;31mUnable to start Kernel 'Python 3.12.2' due to a timeout waiting for the ports to get used. \n",
      "\u001b[1;31mView Jupyter <a href='command:jupyter.viewOutput'>log</a> for further details."
     ]
    }
   ],
   "source": [
    "# Courbe ROC\n",
    "fpr, tpr, _ = roc_curve(y_test, y_pred_proba)\n",
    "roc_auc = auc(fpr, tpr)\n",
    "\n",
    "plt.figure()\n",
    "plt.plot(fpr, tpr, color='darkorange', lw=2, label='Courbe ROC (area = %0.2f)' % roc_auc)\n",
    "plt.plot([0, 1], [0, 1], color='navy', lw=2, linestyle='--')\n",
    "plt.xlim([0.0, 1.0])\n",
    "plt.ylim([0.0, 1.05])\n",
    "plt.xlabel('Taux de faux positifs (FPR)')\n",
    "plt.ylabel('Taux de vrais positifs (TPR)')\n",
    "plt.title('Receiver Operating Characteristic (ROC)')\n",
    "plt.legend(loc=\"lower right\")\n",
    "plt.show()\n"
   ]
  },
  {
   "cell_type": "code",
   "execution_count": null,
   "metadata": {},
   "outputs": [
    {
     "ename": "",
     "evalue": "",
     "output_type": "error",
     "traceback": [
      "\u001b[1;31mÉchec du démarrage du Kernel. \n",
      "\u001b[1;31mUnable to start Kernel 'Python 3.12.2' due to a timeout waiting for the ports to get used. \n",
      "\u001b[1;31mView Jupyter <a href='command:jupyter.viewOutput'>log</a> for further details."
     ]
    }
   ],
   "source": [
    "model = LogisticRegression(max_iter=1000)  # Initialisation du modèle avec un nombre maximum d'itérations\n",
    "model.fit(X_train, y_train)  # Entraînement du modèle\n",
    "coefficients = pd.DataFrame({'Variable': X.columns, 'Coefficient': model.coef_[0]})\n",
    "print(\"Coefficients du modèle :\")\n",
    "print(coefficients)\n"
   ]
  },
  {
   "cell_type": "code",
   "execution_count": null,
   "metadata": {},
   "outputs": [
    {
     "ename": "",
     "evalue": "",
     "output_type": "error",
     "traceback": [
      "\u001b[1;31mÉchec du démarrage du Kernel. \n",
      "\u001b[1;31mUnable to start Kernel 'Python 3.12.2' due to a timeout waiting for the ports to get used. \n",
      "\u001b[1;31mView Jupyter <a href='command:jupyter.viewOutput'>log</a> for further details."
     ]
    }
   ],
   "source": [
    "import pandas as pd\n",
    "import numpy as np\n",
    "import statsmodels.api as sm\n",
    "import matplotlib.pyplot as plt\n",
    "# Exemple de chargement des données\n",
    "y = execptData['Arthrose_code']  # Variable cible\n",
    "X = execptData[['age', 'taux_de_cholesterol', 'taux_de_glycemie', 'pression_arterielle', 'Sexe', 'Medicament_code']]  # Variables prédictives\n",
    "\n",
    "X = sm.add_constant(X)\n",
    "# Exemple de division des données\n",
    "X_train, X_test, y_train, y_test = train_test_split(X, y, test_size=0.2, random_state=42)\n",
    "model = sm.Logit(y_train, X_train)\n",
    "result = model.fit()\n",
    "print(result.summary())\n"
   ]
  }
 ],
 "metadata": {
  "kernelspec": {
   "display_name": "Python 3",
   "language": "python",
   "name": "python3"
  },
  "language_info": {
   "codemirror_mode": {
    "name": "ipython",
    "version": 3
   },
   "file_extension": ".py",
   "mimetype": "text/x-python",
   "name": "python",
   "nbconvert_exporter": "python",
   "pygments_lexer": "ipython3",
   "version": "3.12.2"
  },
  "orig_nbformat": 4
 },
 "nbformat": 4,
 "nbformat_minor": 2
}
