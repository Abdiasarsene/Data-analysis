{
 "cells": [
  {
   "attachments": {},
   "cell_type": "markdown",
   "metadata": {},
   "source": [
    "**Objectif de notre analyse**\n",
    "\n",
    "On souhaite étudier le lien entre le pic d'ozone journalier et un certain nombre de facteurs potentiellement explicatifs afin de proposer un modèle de régression permettant de prévenir la population\n",
    "\n",
    "**Source des données e choix des variables**\n",
    "\n",
    "On considère à cet effet un jeu de données issu du Laboratoire de mathématiques appliquées de l'Agrocampus Ouest qui contient 112 données recueillies à Rennes durant l'été 2001. On y trouve les 14 variables suivantes :\n",
    "\n",
    "- obs : mois-jour ;\n",
    "\n",
    "- maxO3 : teneur maximale en ozone observée sur la journée (en μ\\gr/m3) ;\n",
    "\n",
    "- T9, T12, T15 : température observée à 9 h, 12 h et 15 h ;\n",
    "\n",
    "- Ne9, 12, Ne15 : nébulosité observée à 9 h, 12 h et 15 h ;\n",
    "\n",
    "- Vx9, Vx12, Vx15 : composante est-ouest du vent à 9 h, 12 h et 15 h ;\n",
    "\n",
    "- maxO3v : teneur maximale en ozone observée la veille ;\n",
    "\n",
    "- vent : orientation du vent à 12 h ;\n",
    "\n",
    "- pluie : occurrence ou non de précipitations."
   ]
  },
  {
   "cell_type": "code",
   "execution_count": null,
   "metadata": {},
   "outputs": [],
   "source": []
  }
 ],
 "metadata": {
  "language_info": {
   "name": "python"
  },
  "orig_nbformat": 4
 },
 "nbformat": 4,
 "nbformat_minor": 2
}
