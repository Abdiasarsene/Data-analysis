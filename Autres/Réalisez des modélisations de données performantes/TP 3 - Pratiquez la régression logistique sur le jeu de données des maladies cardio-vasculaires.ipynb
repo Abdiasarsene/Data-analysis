{
 "cells": [
  {
   "cell_type": "markdown",
   "metadata": {},
   "source": [
    "# <font color=\"#8333ff\">TP : Pratiquez la régression logistique sur le jeu de données des maladies cardio-vasculaires</font>\n",
    "\n",
    "Dans ce TP, vous allez appliquer la régression logistique sur le cas d'étude portant sur les maladies cardio-vasculaires.\n",
    "\n",
    "## Importez les données\n",
    "\n",
    "On charge tout d'abord les librairies nécessaires pour réaliser ce TP :"
   ]
  },
  {
   "cell_type": "code",
   "execution_count": 1,
   "metadata": {},
   "outputs": [],
   "source": [
    "import pandas as pd\n",
    "import numpy as np\n",
    "import seaborn as sns\n",
    "import matplotlib.pyplot as plt\n",
    "import statsmodels.formula.api as smf\n",
    "import statsmodels.api as sm"
   ]
  },
  {
   "cell_type": "markdown",
   "metadata": {},
   "source": [
    "On importe ensuite les données :"
   ]
  },
  {
   "cell_type": "code",
   "execution_count": 2,
   "metadata": {},
   "outputs": [
    {
     "data": {
      "text/html": [
       "<div>\n",
       "<style scoped>\n",
       "    .dataframe tbody tr th:only-of-type {\n",
       "        vertical-align: middle;\n",
       "    }\n",
       "\n",
       "    .dataframe tbody tr th {\n",
       "        vertical-align: top;\n",
       "    }\n",
       "\n",
       "    .dataframe thead th {\n",
       "        text-align: right;\n",
       "    }\n",
       "</style>\n",
       "<table border=\"1\" class=\"dataframe\">\n",
       "  <thead>\n",
       "    <tr style=\"text-align: right;\">\n",
       "      <th></th>\n",
       "      <th>ind</th>\n",
       "      <th>sbp</th>\n",
       "      <th>tobacco</th>\n",
       "      <th>ldl</th>\n",
       "      <th>adiposity</th>\n",
       "      <th>famhist</th>\n",
       "      <th>typea</th>\n",
       "      <th>obesity</th>\n",
       "      <th>alcohol</th>\n",
       "      <th>age</th>\n",
       "      <th>chd</th>\n",
       "    </tr>\n",
       "  </thead>\n",
       "  <tbody>\n",
       "    <tr>\n",
       "      <th>0</th>\n",
       "      <td>1</td>\n",
       "      <td>160</td>\n",
       "      <td>12.00</td>\n",
       "      <td>5.73</td>\n",
       "      <td>23.11</td>\n",
       "      <td>Present</td>\n",
       "      <td>49</td>\n",
       "      <td>25.30</td>\n",
       "      <td>97.20</td>\n",
       "      <td>52</td>\n",
       "      <td>1</td>\n",
       "    </tr>\n",
       "    <tr>\n",
       "      <th>1</th>\n",
       "      <td>2</td>\n",
       "      <td>144</td>\n",
       "      <td>0.01</td>\n",
       "      <td>4.41</td>\n",
       "      <td>28.61</td>\n",
       "      <td>Absent</td>\n",
       "      <td>55</td>\n",
       "      <td>28.87</td>\n",
       "      <td>2.06</td>\n",
       "      <td>63</td>\n",
       "      <td>1</td>\n",
       "    </tr>\n",
       "    <tr>\n",
       "      <th>2</th>\n",
       "      <td>3</td>\n",
       "      <td>118</td>\n",
       "      <td>0.08</td>\n",
       "      <td>3.48</td>\n",
       "      <td>32.28</td>\n",
       "      <td>Present</td>\n",
       "      <td>52</td>\n",
       "      <td>29.14</td>\n",
       "      <td>3.81</td>\n",
       "      <td>46</td>\n",
       "      <td>0</td>\n",
       "    </tr>\n",
       "    <tr>\n",
       "      <th>3</th>\n",
       "      <td>4</td>\n",
       "      <td>170</td>\n",
       "      <td>7.50</td>\n",
       "      <td>6.41</td>\n",
       "      <td>38.03</td>\n",
       "      <td>Present</td>\n",
       "      <td>51</td>\n",
       "      <td>31.99</td>\n",
       "      <td>24.26</td>\n",
       "      <td>58</td>\n",
       "      <td>1</td>\n",
       "    </tr>\n",
       "    <tr>\n",
       "      <th>4</th>\n",
       "      <td>5</td>\n",
       "      <td>134</td>\n",
       "      <td>13.60</td>\n",
       "      <td>3.50</td>\n",
       "      <td>27.78</td>\n",
       "      <td>Present</td>\n",
       "      <td>60</td>\n",
       "      <td>25.99</td>\n",
       "      <td>57.34</td>\n",
       "      <td>49</td>\n",
       "      <td>1</td>\n",
       "    </tr>\n",
       "  </tbody>\n",
       "</table>\n",
       "</div>"
      ],
      "text/plain": [
       "   ind  sbp  tobacco   ldl  adiposity  famhist  typea  obesity  alcohol  age  \\\n",
       "0    1  160    12.00  5.73      23.11  Present     49    25.30    97.20   52   \n",
       "1    2  144     0.01  4.41      28.61   Absent     55    28.87     2.06   63   \n",
       "2    3  118     0.08  3.48      32.28  Present     52    29.14     3.81   46   \n",
       "3    4  170     7.50  6.41      38.03  Present     51    31.99    24.26   58   \n",
       "4    5  134    13.60  3.50      27.78  Present     60    25.99    57.34   49   \n",
       "\n",
       "   chd  \n",
       "0    1  \n",
       "1    1  \n",
       "2    0  \n",
       "3    1  \n",
       "4    1  "
      ]
     },
     "execution_count": 2,
     "metadata": {},
     "output_type": "execute_result"
    }
   ],
   "source": [
    "maladie = pd.read_csv('maladie.txt', sep=\";\", decimal='.')\n",
    "maladie.head()"
   ]
  },
  {
   "cell_type": "markdown",
   "metadata": {},
   "source": [
    "Ces données contiennent les informations de 462 patients d'Afrique du Sud. On y trouve des informations telles que :\n",
    "- la tension artérielle ;\n",
    "- le fait de fumer ou pas ;\n",
    "- l'adiposité ;\n",
    "- l'obésité ;\n",
    "- etc.\n",
    "\n",
    "La variable CHD est la variable qui indique si la personne a une maladie cardio-vasculaire (1) ou pas (0).\n",
    "\n",
    "## Visualisez le nuage de points\n",
    "\n",
    "Pour étudier le fait d'être malade en fonction de l'âge, on peut visualiser le nuage de points :"
   ]
  },
  {
   "cell_type": "code",
   "execution_count": 3,
   "metadata": {},
   "outputs": [
    {
     "data": {
      "image/png": "[encoded data removed]",
      "text/plain": [
       "<Figure size 432x288 with 1 Axes>"
      ]
     },
     "metadata": {},
     "output_type": "display_data"
    }
   ],
   "source": [
    "sns.set()\n",
    "\n",
    "ax = sns.scatterplot(x=\"age\", y=\"chd\", data=maladie)"
   ]
  },
  {
   "cell_type": "markdown",
   "metadata": {},
   "source": [
    "Il y a des 0 et des 1, mais il est ici difficile de dire si l'on est plus ou moins malade en fonction de l'âge.\n",
    "\n",
    "On voit également qu'une régression linéaire sur un tel nuage de points n'aurait aucun sens, car elle nous donnerait des valeurs qui ne seraient quasiment jamais sur 0 ni 1.\n",
    "\n",
    "## Calculez les proportions de malades\n",
    "\n",
    "On peut calculer des classes d'âge et les proportions de malades associées."
   ]
  },
  {
   "cell_type": "code",
   "execution_count": 4,
   "metadata": {},
   "outputs": [],
   "source": [
    "maladie['cl_age'] = pd.cut(maladie['age'], bins = np.arange(15, 75, 10), right=False)\n",
    "prop = pd.crosstab(maladie['cl_age'], maladie['chd'], normalize='index')\n",
    "prop_chd = pd.DataFrame(data = {'age': np.concatenate((np.array([15]), \n",
    "                                                       np.repeat(np.arange(25,65,10), repeats=2), \n",
    "                                                       np.array([65])), axis=0),\n",
    "                                'prop_chd': np.repeat(prop.loc[:,1].values, repeats=2)})"
   ]
  },
  {
   "cell_type": "markdown",
   "metadata": {},
   "source": [
    "On peut représenter ces proportions :"
   ]
  },
  {
   "cell_type": "code",
   "execution_count": 5,
   "metadata": {},
   "outputs": [
    {
     "data": {
      "image/png": "[encoded data removed]",
      "text/plain": [
       "<Figure size 360x504 with 1 Axes>"
      ]
     },
     "metadata": {},
     "output_type": "display_data"
    }
   ],
   "source": [
    "plt.figure(figsize=(5,7))\n",
    "ax = sns.scatterplot(x=\"age\", y=\"chd\", data=maladie)\n",
    "plt.plot(prop_chd['age'], prop_chd['prop_chd'], color='black', label='Proportion de malades')\n",
    "ax.legend(loc='center left', bbox_to_anchor=(1, 0.5))\n",
    "plt.show()"
   ]
  },
  {
   "cell_type": "markdown",
   "metadata": {},
   "source": [
    "On y voit une fonction en escalier avec une forme de \"S\".\n",
    "\n",
    "## Effectuez la régression logistique\n",
    "\n",
    "Effectuons donc une régression logistique de CHD en fonction de l'âge :"
   ]
  },
  {
   "cell_type": "code",
   "execution_count": 6,
   "metadata": {},
   "outputs": [
    {
     "name": "stdout",
     "output_type": "stream",
     "text": [
      "                 Generalized Linear Model Regression Results                  \n",
      "==============================================================================\n",
      "Dep. Variable:                    chd   No. Observations:                  462\n",
      "Model:                            GLM   Df Residuals:                      460\n",
      "Model Family:                Binomial   Df Model:                            1\n",
      "Link Function:                  logit   Scale:                          1.0000\n",
      "Method:                          IRLS   Log-Likelihood:                -262.78\n",
      "Date:                Tue, 12 Mar 2019   Deviance:                       525.56\n",
      "Time:                        14:02:38   Pearson chi2:                     445.\n",
      "No. Iterations:                     4   Covariance Type:             nonrobust\n",
      "==============================================================================\n",
      "                 coef    std err          z      P>|z|      [0.025      0.975]\n",
      "------------------------------------------------------------------------------\n",
      "Intercept     -3.5217      0.416     -8.465      0.000      -4.337      -2.706\n",
      "age            0.0641      0.009      7.513      0.000       0.047       0.081\n",
      "==============================================================================\n"
     ]
    }
   ],
   "source": [
    "reg_log1 = smf.glm('chd ~ age', data=maladie, family=sm.families.Binomial()).fit()\n",
    "\n",
    "print(reg_log1.summary())"
   ]
  },
  {
   "cell_type": "markdown",
   "metadata": {},
   "source": [
    "On obtient les paramètres estimés : $\\hat{\\beta}_{1}=−3.5$ et $\\hat{\\beta}_{2}=0.064$. Enregistrons-les :"
   ]
  },
  {
   "cell_type": "code",
   "execution_count": 7,
   "metadata": {},
   "outputs": [],
   "source": [
    "beta1 = reg_log1.params[0]\n",
    "beta2 = reg_log1.params[1]"
   ]
  },
  {
   "cell_type": "markdown",
   "metadata": {},
   "source": [
    "Dans le but de tracer la courbe logistique entre les abscisses $x=15$ et $x=65$, on définit une séquence de 15 à 65 par pas de 500, puis on la place dans la variable x. On calcule ensuite les ordonnées de la courbe, grâce à l'expression de la courbe en S :\n",
    "<br><br><center><font size=\"4\">$f(x) = \\frac{e^{\\beta_{1}+\\beta_{2}x}}{1+e^{\\beta_{1}+\\beta_{2}x}}$</font></center>\n",
    "\n",
    "Nous plaçons ces ordonnées dans la variable y. Enfin, avec x et y, nous créons un dataframe :"
   ]
  },
  {
   "cell_type": "code",
   "execution_count": 8,
   "metadata": {},
   "outputs": [],
   "source": [
    "x = np.linspace(start=15, stop=65, num=500)\n",
    "y = np.exp(beta1+beta2*x)/(1+np.exp(beta1+beta2*x))\n",
    "reg_log = pd.DataFrame(data={'age': x, 'prop_chd': y})"
   ]
  },
  {
   "cell_type": "markdown",
   "metadata": {},
   "source": [
    "Si l'on souhaite superposer la fonction de lien obtenue par régression logistique sur le graphique précédent, nous obtenons ceci :"
   ]
  },
  {
   "cell_type": "code",
   "execution_count": 9,
   "metadata": {},
   "outputs": [
    {
     "data": {
      "image/png": "[encoded data removed]",
      "text/plain": [
       "<Figure size 360x504 with 1 Axes>"
      ]
     },
     "metadata": {},
     "output_type": "display_data"
    }
   ],
   "source": [
    "plt.figure(figsize=(5,7))\n",
    "ax = sns.scatterplot(x=\"age\", y=\"chd\", data=maladie)\n",
    "plt.plot(prop_chd['age'], prop_chd['prop_chd'], color='black', label='Proportion de malades')\n",
    "plt.plot(reg_log['age'], reg_log['prop_chd'], color='red', label='Courbe logistique')\n",
    "ax.legend(loc='center left', bbox_to_anchor=(1, 0.5))\n",
    "plt.show()"
   ]
  },
  {
   "cell_type": "markdown",
   "metadata": {},
   "source": [
    "La courbe rouge est celle qui est obtenue par régression logistique.\n",
    "\n",
    "Si l'on avait voulu considérer l'ensemble des variables médicales (et non pas seulement l'âge comme jusqu'à présent), nous aurions écrit :"
   ]
  },
  {
   "cell_type": "code",
   "execution_count": 10,
   "metadata": {},
   "outputs": [
    {
     "name": "stdout",
     "output_type": "stream",
     "text": [
      "                 Generalized Linear Model Regression Results                  \n",
      "==============================================================================\n",
      "Dep. Variable:                    chd   No. Observations:                  462\n",
      "Model:                            GLM   Df Residuals:                      452\n",
      "Model Family:                Binomial   Df Model:                            9\n",
      "Link Function:                  logit   Scale:                          1.0000\n",
      "Method:                          IRLS   Log-Likelihood:                -236.07\n",
      "Date:                Tue, 12 Mar 2019   Deviance:                       472.14\n",
      "Time:                        14:02:39   Pearson chi2:                     452.\n",
      "No. Iterations:                     5   Covariance Type:             nonrobust\n",
      "======================================================================================\n",
      "                         coef    std err          z      P>|z|      [0.025      0.975]\n",
      "--------------------------------------------------------------------------------------\n",
      "Intercept             -6.1507      1.308     -4.701      0.000      -8.715      -3.587\n",
      "famhist[T.Present]     0.9254      0.228      4.061      0.000       0.479       1.372\n",
      "sbp                    0.0065      0.006      1.135      0.256      -0.005       0.018\n",
      "tobacco                0.0794      0.027      2.984      0.003       0.027       0.132\n",
      "ldl                    0.1739      0.060      2.915      0.004       0.057       0.291\n",
      "adiposity              0.0186      0.029      0.635      0.526      -0.039       0.076\n",
      "typea                  0.0396      0.012      3.214      0.001       0.015       0.064\n",
      "obesity               -0.0629      0.044     -1.422      0.155      -0.150       0.024\n",
      "alcohol                0.0001      0.004      0.027      0.978      -0.009       0.009\n",
      "age                    0.0452      0.012      3.728      0.000       0.021       0.069\n",
      "======================================================================================\n"
     ]
    }
   ],
   "source": [
    "reg_log2 = smf.glm('chd~sbp+tobacco+ldl+adiposity+famhist+typea+obesity+alcohol+age',\n",
    "                   data=maladie, family=sm.families.Binomial()).fit()\n",
    "print(reg_log2.summary())"
   ]
  },
  {
   "cell_type": "markdown",
   "metadata": {},
   "source": [
    "Certaines des variables obtenues ont des p-valeurs qui sont inférieures au niveau de test de 5 %, ce qui nous indique qu'elles sont bien significatives. Certaines autres ne sont pas en dessous de ce seuil.\n",
    "\n",
    "On peut donc passer sur une procédure de sélection en retirant les variables non significatives au fur et à mesure, comme vu précédemment.\n",
    "\n",
    "Et voilà, vous avez appliqué une régression logistique permettant de traiter des variables qualitatives binaires (avec deux modalités). Sachez qu'il existe d'autres méthodes de classification permettant de traiter des variables quantitatives avec davantage de modalités !"
   ]
  },
  {
   "cell_type": "code",
   "execution_count": null,
   "metadata": {},
   "outputs": [],
   "source": []
  }
 ],
 "metadata": {
  "kernelspec": {
   "display_name": "Python 3",
   "language": "python",
   "name": "python3"
  },
  "language_info": {
   "codemirror_mode": {
    "name": "ipython",
    "version": 3
   },
   "file_extension": ".py",
   "mimetype": "text/x-python",
   "name": "python",
   "nbconvert_exporter": "python",
   "pygments_lexer": "ipython3",
   "version": "3.6.5"
  },
  "toc": {
   "base_numbering": 1,
   "nav_menu": {},
   "number_sections": true,
   "sideBar": true,
   "skip_h1_title": false,
   "title_cell": "Table of Contents",
   "title_sidebar": "Contents",
   "toc_cell": false,
   "toc_position": {},
   "toc_section_display": true,
   "toc_window_display": false
  }
 },
 "nbformat": 4,
 "nbformat_minor": 2
}
