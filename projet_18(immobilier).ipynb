{
 "cells": [
  {
   "cell_type": "code",
   "execution_count": 1,
   "source": [
    "# Importation des bibliothèques\n",
    "import pandas as pd\n",
    "import numpy as np\n",
    "import statsmodels.api as sm\n",
    "import matplotlib.pyplot as plt\n",
    "import seaborn as sns\n",
    "\n",
    "\n",
    "#Importation de lazbase de donnée\n",
    "abdias =pd.read_excel(r\"c:\\Users\\ARMIDE Informatique\\Desktop\\Formation pratique\\bddias.xlsx\")\n",
    "\n",
    "# Creation des données aléatoires pour donner du poids à mon analyse de données"
   ],
   "outputs": [],
   "metadata": {}
  },
  {
   "cell_type": "code",
   "execution_count": 2,
   "source": [
    "abdias"
   ],
   "outputs": [
    {
     "output_type": "execute_result",
     "data": {
      "text/html": [
       "<div>\n",
       "<style scoped>\n",
       "    .dataframe tbody tr th:only-of-type {\n",
       "        vertical-align: middle;\n",
       "    }\n",
       "\n",
       "    .dataframe tbody tr th {\n",
       "        vertical-align: top;\n",
       "    }\n",
       "\n",
       "    .dataframe thead th {\n",
       "        text-align: right;\n",
       "    }\n",
       "</style>\n",
       "<table border=\"1\" class=\"dataframe\">\n",
       "  <thead>\n",
       "    <tr style=\"text-align: right;\">\n",
       "      <th></th>\n",
       "      <th>date</th>\n",
       "      <th>indice_prix_logement</th>\n",
       "      <th>valeur_fonciere</th>\n",
       "    </tr>\n",
       "  </thead>\n",
       "  <tbody>\n",
       "    <tr>\n",
       "      <th>0</th>\n",
       "      <td>2020-01-02</td>\n",
       "      <td>139.0</td>\n",
       "      <td>NaN</td>\n",
       "    </tr>\n",
       "    <tr>\n",
       "      <th>1</th>\n",
       "      <td>2020-01-03</td>\n",
       "      <td>139.0</td>\n",
       "      <td>NaN</td>\n",
       "    </tr>\n",
       "    <tr>\n",
       "      <th>2</th>\n",
       "      <td>2020-01-06</td>\n",
       "      <td>139.0</td>\n",
       "      <td>NaN</td>\n",
       "    </tr>\n",
       "    <tr>\n",
       "      <th>3</th>\n",
       "      <td>2020-01-07</td>\n",
       "      <td>139.0</td>\n",
       "      <td>NaN</td>\n",
       "    </tr>\n",
       "    <tr>\n",
       "      <th>4</th>\n",
       "      <td>2020-01-08</td>\n",
       "      <td>139.0</td>\n",
       "      <td>NaN</td>\n",
       "    </tr>\n",
       "    <tr>\n",
       "      <th>...</th>\n",
       "      <td>...</td>\n",
       "      <td>...</td>\n",
       "      <td>...</td>\n",
       "    </tr>\n",
       "    <tr>\n",
       "      <th>130</th>\n",
       "      <td>2020-06-24</td>\n",
       "      <td>145.2</td>\n",
       "      <td>79200.0</td>\n",
       "    </tr>\n",
       "    <tr>\n",
       "      <th>131</th>\n",
       "      <td>2020-06-25</td>\n",
       "      <td>145.2</td>\n",
       "      <td>381600.0</td>\n",
       "    </tr>\n",
       "    <tr>\n",
       "      <th>132</th>\n",
       "      <td>2020-06-26</td>\n",
       "      <td>145.2</td>\n",
       "      <td>423000.0</td>\n",
       "    </tr>\n",
       "    <tr>\n",
       "      <th>133</th>\n",
       "      <td>2020-06-29</td>\n",
       "      <td>145.2</td>\n",
       "      <td>217800.0</td>\n",
       "    </tr>\n",
       "    <tr>\n",
       "      <th>134</th>\n",
       "      <td>2020-06-30</td>\n",
       "      <td>145.2</td>\n",
       "      <td>253350.0</td>\n",
       "    </tr>\n",
       "  </tbody>\n",
       "</table>\n",
       "<p>135 rows × 3 columns</p>\n",
       "</div>"
      ],
      "text/plain": [
       "          date  indice_prix_logement  valeur_fonciere\n",
       "0   2020-01-02                 139.0              NaN\n",
       "1   2020-01-03                 139.0              NaN\n",
       "2   2020-01-06                 139.0              NaN\n",
       "3   2020-01-07                 139.0              NaN\n",
       "4   2020-01-08                 139.0              NaN\n",
       "..         ...                   ...              ...\n",
       "130 2020-06-24                 145.2          79200.0\n",
       "131 2020-06-25                 145.2         381600.0\n",
       "132 2020-06-26                 145.2         423000.0\n",
       "133 2020-06-29                 145.2         217800.0\n",
       "134 2020-06-30                 145.2         253350.0\n",
       "\n",
       "[135 rows x 3 columns]"
      ]
     },
     "metadata": {},
     "execution_count": 2
    }
   ],
   "metadata": {}
  },
  {
   "cell_type": "code",
   "execution_count": 3,
   "source": [
    "abdias.count()"
   ],
   "outputs": [
    {
     "output_type": "execute_result",
     "data": {
      "text/plain": [
       "date                    135\n",
       "indice_prix_logement    132\n",
       "valeur_fonciere         129\n",
       "dtype: int64"
      ]
     },
     "metadata": {},
     "execution_count": 3
    }
   ],
   "metadata": {}
  },
  {
   "cell_type": "code",
   "execution_count": 4,
   "source": [
    "\n",
    "donne_immobilier = abdias.head(128)"
   ],
   "outputs": [],
   "metadata": {}
  },
  {
   "cell_type": "code",
   "execution_count": 5,
   "source": [
    "donne_immobilier"
   ],
   "outputs": [
    {
     "output_type": "execute_result",
     "data": {
      "text/html": [
       "<div>\n",
       "<style scoped>\n",
       "    .dataframe tbody tr th:only-of-type {\n",
       "        vertical-align: middle;\n",
       "    }\n",
       "\n",
       "    .dataframe tbody tr th {\n",
       "        vertical-align: top;\n",
       "    }\n",
       "\n",
       "    .dataframe thead th {\n",
       "        text-align: right;\n",
       "    }\n",
       "</style>\n",
       "<table border=\"1\" class=\"dataframe\">\n",
       "  <thead>\n",
       "    <tr style=\"text-align: right;\">\n",
       "      <th></th>\n",
       "      <th>date</th>\n",
       "      <th>indice_prix_logement</th>\n",
       "      <th>valeur_fonciere</th>\n",
       "    </tr>\n",
       "  </thead>\n",
       "  <tbody>\n",
       "    <tr>\n",
       "      <th>0</th>\n",
       "      <td>2020-01-02</td>\n",
       "      <td>139.0</td>\n",
       "      <td>NaN</td>\n",
       "    </tr>\n",
       "    <tr>\n",
       "      <th>1</th>\n",
       "      <td>2020-01-03</td>\n",
       "      <td>139.0</td>\n",
       "      <td>NaN</td>\n",
       "    </tr>\n",
       "    <tr>\n",
       "      <th>2</th>\n",
       "      <td>2020-01-06</td>\n",
       "      <td>139.0</td>\n",
       "      <td>NaN</td>\n",
       "    </tr>\n",
       "    <tr>\n",
       "      <th>3</th>\n",
       "      <td>2020-01-07</td>\n",
       "      <td>139.0</td>\n",
       "      <td>NaN</td>\n",
       "    </tr>\n",
       "    <tr>\n",
       "      <th>4</th>\n",
       "      <td>2020-01-08</td>\n",
       "      <td>139.0</td>\n",
       "      <td>NaN</td>\n",
       "    </tr>\n",
       "    <tr>\n",
       "      <th>...</th>\n",
       "      <td>...</td>\n",
       "      <td>...</td>\n",
       "      <td>...</td>\n",
       "    </tr>\n",
       "    <tr>\n",
       "      <th>123</th>\n",
       "      <td>2020-06-16</td>\n",
       "      <td>145.2</td>\n",
       "      <td>472500.0</td>\n",
       "    </tr>\n",
       "    <tr>\n",
       "      <th>124</th>\n",
       "      <td>2020-06-17</td>\n",
       "      <td>145.2</td>\n",
       "      <td>250650.0</td>\n",
       "    </tr>\n",
       "    <tr>\n",
       "      <th>125</th>\n",
       "      <td>2020-06-18</td>\n",
       "      <td>145.2</td>\n",
       "      <td>751500.0</td>\n",
       "    </tr>\n",
       "    <tr>\n",
       "      <th>126</th>\n",
       "      <td>2020-06-19</td>\n",
       "      <td>145.2</td>\n",
       "      <td>1098000.0</td>\n",
       "    </tr>\n",
       "    <tr>\n",
       "      <th>127</th>\n",
       "      <td>2020-06-20</td>\n",
       "      <td>145.2</td>\n",
       "      <td>2403000.0</td>\n",
       "    </tr>\n",
       "  </tbody>\n",
       "</table>\n",
       "<p>128 rows × 3 columns</p>\n",
       "</div>"
      ],
      "text/plain": [
       "          date  indice_prix_logement  valeur_fonciere\n",
       "0   2020-01-02                 139.0              NaN\n",
       "1   2020-01-03                 139.0              NaN\n",
       "2   2020-01-06                 139.0              NaN\n",
       "3   2020-01-07                 139.0              NaN\n",
       "4   2020-01-08                 139.0              NaN\n",
       "..         ...                   ...              ...\n",
       "123 2020-06-16                 145.2         472500.0\n",
       "124 2020-06-17                 145.2         250650.0\n",
       "125 2020-06-18                 145.2         751500.0\n",
       "126 2020-06-19                 145.2        1098000.0\n",
       "127 2020-06-20                 145.2        2403000.0\n",
       "\n",
       "[128 rows x 3 columns]"
      ]
     },
     "metadata": {},
     "execution_count": 5
    }
   ],
   "metadata": {}
  },
  {
   "cell_type": "code",
   "execution_count": 6,
   "source": [
    "donne_immobilier.count()"
   ],
   "outputs": [
    {
     "output_type": "execute_result",
     "data": {
      "text/plain": [
       "date                    128\n",
       "indice_prix_logement    125\n",
       "valeur_fonciere         122\n",
       "dtype: int64"
      ]
     },
     "metadata": {},
     "execution_count": 6
    }
   ],
   "metadata": {}
  },
  {
   "cell_type": "code",
   "execution_count": 7,
   "source": [
    "donne_immobilier.to_excel('abdias.xlsx', index=True\n",
    ")"
   ],
   "outputs": [],
   "metadata": {}
  },
  {
   "cell_type": "code",
   "execution_count": 8,
   "source": [
    "donne_immobilier.columns"
   ],
   "outputs": [
    {
     "output_type": "execute_result",
     "data": {
      "text/plain": [
       "Index(['date', 'indice_prix_logement', 'valeur_fonciere'], dtype='object')"
      ]
     },
     "metadata": {},
     "execution_count": 8
    }
   ],
   "metadata": {}
  },
  {
   "cell_type": "code",
   "execution_count": 11,
   "source": [
    "donne_immobilier"
   ],
   "outputs": [
    {
     "output_type": "execute_result",
     "data": {
      "text/html": [
       "<div>\n",
       "<style scoped>\n",
       "    .dataframe tbody tr th:only-of-type {\n",
       "        vertical-align: middle;\n",
       "    }\n",
       "\n",
       "    .dataframe tbody tr th {\n",
       "        vertical-align: top;\n",
       "    }\n",
       "\n",
       "    .dataframe thead th {\n",
       "        text-align: right;\n",
       "    }\n",
       "</style>\n",
       "<table border=\"1\" class=\"dataframe\">\n",
       "  <thead>\n",
       "    <tr style=\"text-align: right;\">\n",
       "      <th></th>\n",
       "      <th>date</th>\n",
       "      <th>indice_prix_logement</th>\n",
       "      <th>valeur_fonciere</th>\n",
       "    </tr>\n",
       "  </thead>\n",
       "  <tbody>\n",
       "    <tr>\n",
       "      <th>0</th>\n",
       "      <td>2020-01-02</td>\n",
       "      <td>139.0</td>\n",
       "      <td>NaN</td>\n",
       "    </tr>\n",
       "    <tr>\n",
       "      <th>1</th>\n",
       "      <td>2020-01-03</td>\n",
       "      <td>139.0</td>\n",
       "      <td>NaN</td>\n",
       "    </tr>\n",
       "    <tr>\n",
       "      <th>2</th>\n",
       "      <td>2020-01-06</td>\n",
       "      <td>139.0</td>\n",
       "      <td>NaN</td>\n",
       "    </tr>\n",
       "    <tr>\n",
       "      <th>3</th>\n",
       "      <td>2020-01-07</td>\n",
       "      <td>139.0</td>\n",
       "      <td>NaN</td>\n",
       "    </tr>\n",
       "    <tr>\n",
       "      <th>4</th>\n",
       "      <td>2020-01-08</td>\n",
       "      <td>139.0</td>\n",
       "      <td>NaN</td>\n",
       "    </tr>\n",
       "    <tr>\n",
       "      <th>...</th>\n",
       "      <td>...</td>\n",
       "      <td>...</td>\n",
       "      <td>...</td>\n",
       "    </tr>\n",
       "    <tr>\n",
       "      <th>123</th>\n",
       "      <td>NaT</td>\n",
       "      <td>NaN</td>\n",
       "      <td>NaN</td>\n",
       "    </tr>\n",
       "    <tr>\n",
       "      <th>124</th>\n",
       "      <td>NaT</td>\n",
       "      <td>NaN</td>\n",
       "      <td>NaN</td>\n",
       "    </tr>\n",
       "    <tr>\n",
       "      <th>125</th>\n",
       "      <td>NaT</td>\n",
       "      <td>NaN</td>\n",
       "      <td>NaN</td>\n",
       "    </tr>\n",
       "    <tr>\n",
       "      <th>126</th>\n",
       "      <td>NaT</td>\n",
       "      <td>NaN</td>\n",
       "      <td>NaN</td>\n",
       "    </tr>\n",
       "    <tr>\n",
       "      <th>127</th>\n",
       "      <td>NaT</td>\n",
       "      <td>NaN</td>\n",
       "      <td>NaN</td>\n",
       "    </tr>\n",
       "  </tbody>\n",
       "</table>\n",
       "<p>128 rows × 3 columns</p>\n",
       "</div>"
      ],
      "text/plain": [
       "          date  indice_prix_logement  valeur_fonciere\n",
       "0   2020-01-02                 139.0              NaN\n",
       "1   2020-01-03                 139.0              NaN\n",
       "2   2020-01-06                 139.0              NaN\n",
       "3   2020-01-07                 139.0              NaN\n",
       "4   2020-01-08                 139.0              NaN\n",
       "..         ...                   ...              ...\n",
       "123        NaT                   NaN              NaN\n",
       "124        NaT                   NaN              NaN\n",
       "125        NaT                   NaN              NaN\n",
       "126        NaT                   NaN              NaN\n",
       "127        NaT                   NaN              NaN\n",
       "\n",
       "[128 rows x 3 columns]"
      ]
     },
     "metadata": {},
     "execution_count": 11
    }
   ],
   "metadata": {}
  },
  {
   "cell_type": "code",
   "execution_count": 12,
   "source": [
    "donne_immobilier['date'].isnull().sum()"
   ],
   "outputs": [
    {
     "output_type": "execute_result",
     "data": {
      "text/plain": [
       "8"
      ]
     },
     "metadata": {},
     "execution_count": 12
    }
   ],
   "metadata": {}
  },
  {
   "cell_type": "code",
   "execution_count": 13,
   "source": [
    "donne_immobilier.isnull().sum()"
   ],
   "outputs": [
    {
     "output_type": "execute_result",
     "data": {
      "text/plain": [
       "date                     8\n",
       "indice_prix_logement    11\n",
       "valeur_fonciere         14\n",
       "dtype: int64"
      ]
     },
     "metadata": {},
     "execution_count": 13
    }
   ],
   "metadata": {}
  },
  {
   "cell_type": "code",
   "execution_count": 14,
   "source": [
    "donne_immobilier['variation_prix_logement'] = donne_immobilier['indice_prix_logement'].diff()"
   ],
   "outputs": [
    {
     "output_type": "stream",
     "name": "stderr",
     "text": [
      "<ipython-input-14-68a475dff3a7>:1: SettingWithCopyWarning: \n",
      "A value is trying to be set on a copy of a slice from a DataFrame.\n",
      "Try using .loc[row_indexer,col_indexer] = value instead\n",
      "\n",
      "See the caveats in the documentation: https://pandas.pydata.org/pandas-docs/stable/user_guide/indexing.html#returning-a-view-versus-a-copy\n",
      "  donne_immobilier['variation_prix_logement'] = donne_immobilier['indice_prix_logement'].diff()\n"
     ]
    }
   ],
   "metadata": {}
  },
  {
   "cell_type": "code",
   "execution_count": 15,
   "source": [
    "donne_immobilier"
   ],
   "outputs": [
    {
     "output_type": "execute_result",
     "data": {
      "text/html": [
       "<div>\n",
       "<style scoped>\n",
       "    .dataframe tbody tr th:only-of-type {\n",
       "        vertical-align: middle;\n",
       "    }\n",
       "\n",
       "    .dataframe tbody tr th {\n",
       "        vertical-align: top;\n",
       "    }\n",
       "\n",
       "    .dataframe thead th {\n",
       "        text-align: right;\n",
       "    }\n",
       "</style>\n",
       "<table border=\"1\" class=\"dataframe\">\n",
       "  <thead>\n",
       "    <tr style=\"text-align: right;\">\n",
       "      <th></th>\n",
       "      <th>date</th>\n",
       "      <th>indice_prix_logement</th>\n",
       "      <th>valeur_fonciere</th>\n",
       "      <th>variation_prix_logement</th>\n",
       "    </tr>\n",
       "  </thead>\n",
       "  <tbody>\n",
       "    <tr>\n",
       "      <th>0</th>\n",
       "      <td>2020-01-02</td>\n",
       "      <td>139.0</td>\n",
       "      <td>NaN</td>\n",
       "      <td>NaN</td>\n",
       "    </tr>\n",
       "    <tr>\n",
       "      <th>1</th>\n",
       "      <td>2020-01-03</td>\n",
       "      <td>139.0</td>\n",
       "      <td>NaN</td>\n",
       "      <td>0.0</td>\n",
       "    </tr>\n",
       "    <tr>\n",
       "      <th>2</th>\n",
       "      <td>2020-01-06</td>\n",
       "      <td>139.0</td>\n",
       "      <td>NaN</td>\n",
       "      <td>0.0</td>\n",
       "    </tr>\n",
       "    <tr>\n",
       "      <th>3</th>\n",
       "      <td>2020-01-07</td>\n",
       "      <td>139.0</td>\n",
       "      <td>NaN</td>\n",
       "      <td>0.0</td>\n",
       "    </tr>\n",
       "    <tr>\n",
       "      <th>4</th>\n",
       "      <td>2020-01-08</td>\n",
       "      <td>139.0</td>\n",
       "      <td>NaN</td>\n",
       "      <td>0.0</td>\n",
       "    </tr>\n",
       "    <tr>\n",
       "      <th>...</th>\n",
       "      <td>...</td>\n",
       "      <td>...</td>\n",
       "      <td>...</td>\n",
       "      <td>...</td>\n",
       "    </tr>\n",
       "    <tr>\n",
       "      <th>123</th>\n",
       "      <td>NaT</td>\n",
       "      <td>NaN</td>\n",
       "      <td>NaN</td>\n",
       "      <td>NaN</td>\n",
       "    </tr>\n",
       "    <tr>\n",
       "      <th>124</th>\n",
       "      <td>NaT</td>\n",
       "      <td>NaN</td>\n",
       "      <td>NaN</td>\n",
       "      <td>NaN</td>\n",
       "    </tr>\n",
       "    <tr>\n",
       "      <th>125</th>\n",
       "      <td>NaT</td>\n",
       "      <td>NaN</td>\n",
       "      <td>NaN</td>\n",
       "      <td>NaN</td>\n",
       "    </tr>\n",
       "    <tr>\n",
       "      <th>126</th>\n",
       "      <td>NaT</td>\n",
       "      <td>NaN</td>\n",
       "      <td>NaN</td>\n",
       "      <td>NaN</td>\n",
       "    </tr>\n",
       "    <tr>\n",
       "      <th>127</th>\n",
       "      <td>NaT</td>\n",
       "      <td>NaN</td>\n",
       "      <td>NaN</td>\n",
       "      <td>NaN</td>\n",
       "    </tr>\n",
       "  </tbody>\n",
       "</table>\n",
       "<p>128 rows × 4 columns</p>\n",
       "</div>"
      ],
      "text/plain": [
       "          date  indice_prix_logement  valeur_fonciere  variation_prix_logement\n",
       "0   2020-01-02                 139.0              NaN                      NaN\n",
       "1   2020-01-03                 139.0              NaN                      0.0\n",
       "2   2020-01-06                 139.0              NaN                      0.0\n",
       "3   2020-01-07                 139.0              NaN                      0.0\n",
       "4   2020-01-08                 139.0              NaN                      0.0\n",
       "..         ...                   ...              ...                      ...\n",
       "123        NaT                   NaN              NaN                      NaN\n",
       "124        NaT                   NaN              NaN                      NaN\n",
       "125        NaT                   NaN              NaN                      NaN\n",
       "126        NaT                   NaN              NaN                      NaN\n",
       "127        NaT                   NaN              NaN                      NaN\n",
       "\n",
       "[128 rows x 4 columns]"
      ]
     },
     "metadata": {},
     "execution_count": 15
    }
   ],
   "metadata": {}
  },
  {
   "cell_type": "code",
   "execution_count": 18,
   "source": [
    "import pandas as pd"
   ],
   "outputs": [],
   "metadata": {}
  },
  {
   "cell_type": "code",
   "execution_count": 20,
   "source": [
    "n = 120\n",
    "\n",
    "data = {\n",
    "    'indice_prix_logement_lissé': np.random.randint(12, 34, n),\n",
    "    'volume_transaction': np.random.randint(2, 16, n),\n",
    "    'taux_occupation': np.random.randint(70, 95, n),\n",
    "    'taux_prix_logement': np.random.uniform(0.2, 0.3, n),\n",
    "    'taux_volume_transaction': np.random.uniform(0.2, 0.6, n),\n",
    "    'indice_prix_logement': np.random.randint(120, 230, n),\n",
    "    'date': np.random.randint(2001, 2020, n)\n",
    "}\n",
    "\n",
    "donne_immobilier = pd.DataFrame(data, columns=['indice_prix_logement_lissé','volume_transaction','taux_occupation','taux_prix_logement','taux_volume_transaction','indice_prix_logement','date'])"
   ],
   "outputs": [],
   "metadata": {}
  },
  {
   "cell_type": "code",
   "execution_count": 21,
   "source": [
    "donne_immobilier"
   ],
   "outputs": [
    {
     "output_type": "execute_result",
     "data": {
      "text/html": [
       "<div>\n",
       "<style scoped>\n",
       "    .dataframe tbody tr th:only-of-type {\n",
       "        vertical-align: middle;\n",
       "    }\n",
       "\n",
       "    .dataframe tbody tr th {\n",
       "        vertical-align: top;\n",
       "    }\n",
       "\n",
       "    .dataframe thead th {\n",
       "        text-align: right;\n",
       "    }\n",
       "</style>\n",
       "<table border=\"1\" class=\"dataframe\">\n",
       "  <thead>\n",
       "    <tr style=\"text-align: right;\">\n",
       "      <th></th>\n",
       "      <th>indice_prix_logement_lissé</th>\n",
       "      <th>volume_transaction</th>\n",
       "      <th>taux_occupation</th>\n",
       "      <th>taux_prix_logement</th>\n",
       "      <th>taux_volume_transaction</th>\n",
       "      <th>indice_prix_logement</th>\n",
       "      <th>date</th>\n",
       "    </tr>\n",
       "  </thead>\n",
       "  <tbody>\n",
       "    <tr>\n",
       "      <th>0</th>\n",
       "      <td>22</td>\n",
       "      <td>2</td>\n",
       "      <td>89</td>\n",
       "      <td>0.238240</td>\n",
       "      <td>0.352847</td>\n",
       "      <td>227</td>\n",
       "      <td>2015</td>\n",
       "    </tr>\n",
       "    <tr>\n",
       "      <th>1</th>\n",
       "      <td>12</td>\n",
       "      <td>13</td>\n",
       "      <td>94</td>\n",
       "      <td>0.219451</td>\n",
       "      <td>0.376861</td>\n",
       "      <td>141</td>\n",
       "      <td>2006</td>\n",
       "    </tr>\n",
       "    <tr>\n",
       "      <th>2</th>\n",
       "      <td>20</td>\n",
       "      <td>8</td>\n",
       "      <td>81</td>\n",
       "      <td>0.249122</td>\n",
       "      <td>0.379391</td>\n",
       "      <td>148</td>\n",
       "      <td>2012</td>\n",
       "    </tr>\n",
       "    <tr>\n",
       "      <th>3</th>\n",
       "      <td>21</td>\n",
       "      <td>12</td>\n",
       "      <td>72</td>\n",
       "      <td>0.229181</td>\n",
       "      <td>0.321599</td>\n",
       "      <td>193</td>\n",
       "      <td>2009</td>\n",
       "    </tr>\n",
       "    <tr>\n",
       "      <th>4</th>\n",
       "      <td>27</td>\n",
       "      <td>3</td>\n",
       "      <td>92</td>\n",
       "      <td>0.222357</td>\n",
       "      <td>0.414931</td>\n",
       "      <td>193</td>\n",
       "      <td>2018</td>\n",
       "    </tr>\n",
       "    <tr>\n",
       "      <th>...</th>\n",
       "      <td>...</td>\n",
       "      <td>...</td>\n",
       "      <td>...</td>\n",
       "      <td>...</td>\n",
       "      <td>...</td>\n",
       "      <td>...</td>\n",
       "      <td>...</td>\n",
       "    </tr>\n",
       "    <tr>\n",
       "      <th>115</th>\n",
       "      <td>32</td>\n",
       "      <td>13</td>\n",
       "      <td>86</td>\n",
       "      <td>0.292428</td>\n",
       "      <td>0.296464</td>\n",
       "      <td>229</td>\n",
       "      <td>2008</td>\n",
       "    </tr>\n",
       "    <tr>\n",
       "      <th>116</th>\n",
       "      <td>24</td>\n",
       "      <td>9</td>\n",
       "      <td>86</td>\n",
       "      <td>0.253641</td>\n",
       "      <td>0.467561</td>\n",
       "      <td>122</td>\n",
       "      <td>2014</td>\n",
       "    </tr>\n",
       "    <tr>\n",
       "      <th>117</th>\n",
       "      <td>30</td>\n",
       "      <td>13</td>\n",
       "      <td>92</td>\n",
       "      <td>0.286036</td>\n",
       "      <td>0.401353</td>\n",
       "      <td>206</td>\n",
       "      <td>2017</td>\n",
       "    </tr>\n",
       "    <tr>\n",
       "      <th>118</th>\n",
       "      <td>12</td>\n",
       "      <td>9</td>\n",
       "      <td>92</td>\n",
       "      <td>0.200535</td>\n",
       "      <td>0.341140</td>\n",
       "      <td>220</td>\n",
       "      <td>2012</td>\n",
       "    </tr>\n",
       "    <tr>\n",
       "      <th>119</th>\n",
       "      <td>29</td>\n",
       "      <td>5</td>\n",
       "      <td>74</td>\n",
       "      <td>0.217172</td>\n",
       "      <td>0.280978</td>\n",
       "      <td>139</td>\n",
       "      <td>2015</td>\n",
       "    </tr>\n",
       "  </tbody>\n",
       "</table>\n",
       "<p>120 rows × 7 columns</p>\n",
       "</div>"
      ],
      "text/plain": [
       "     indice_prix_logement_lissé  volume_transaction  taux_occupation  \\\n",
       "0                            22                   2               89   \n",
       "1                            12                  13               94   \n",
       "2                            20                   8               81   \n",
       "3                            21                  12               72   \n",
       "4                            27                   3               92   \n",
       "..                          ...                 ...              ...   \n",
       "115                          32                  13               86   \n",
       "116                          24                   9               86   \n",
       "117                          30                  13               92   \n",
       "118                          12                   9               92   \n",
       "119                          29                   5               74   \n",
       "\n",
       "     taux_prix_logement  taux_volume_transaction  indice_prix_logement  date  \n",
       "0              0.238240                 0.352847                   227  2015  \n",
       "1              0.219451                 0.376861                   141  2006  \n",
       "2              0.249122                 0.379391                   148  2012  \n",
       "3              0.229181                 0.321599                   193  2009  \n",
       "4              0.222357                 0.414931                   193  2018  \n",
       "..                  ...                      ...                   ...   ...  \n",
       "115            0.292428                 0.296464                   229  2008  \n",
       "116            0.253641                 0.467561                   122  2014  \n",
       "117            0.286036                 0.401353                   206  2017  \n",
       "118            0.200535                 0.341140                   220  2012  \n",
       "119            0.217172                 0.280978                   139  2015  \n",
       "\n",
       "[120 rows x 7 columns]"
      ]
     },
     "metadata": {},
     "execution_count": 21
    }
   ],
   "metadata": {}
  },
  {
   "cell_type": "code",
   "execution_count": 22,
   "source": [
    "donne_immobilier.dtypes"
   ],
   "outputs": [
    {
     "output_type": "execute_result",
     "data": {
      "text/plain": [
       "indice_prix_logement_lissé      int32\n",
       "volume_transaction              int32\n",
       "taux_occupation                 int32\n",
       "taux_prix_logement            float64\n",
       "taux_volume_transaction       float64\n",
       "indice_prix_logement            int32\n",
       "date                            int32\n",
       "dtype: object"
      ]
     },
     "metadata": {},
     "execution_count": 22
    }
   ],
   "metadata": {}
  },
  {
   "cell_type": "code",
   "execution_count": 23,
   "source": [
    "stats= donne_immobilier.drop(columns=('date')).describe()\n",
    "\n",
    "stats"
   ],
   "outputs": [
    {
     "output_type": "execute_result",
     "data": {
      "text/html": [
       "<div>\n",
       "<style scoped>\n",
       "    .dataframe tbody tr th:only-of-type {\n",
       "        vertical-align: middle;\n",
       "    }\n",
       "\n",
       "    .dataframe tbody tr th {\n",
       "        vertical-align: top;\n",
       "    }\n",
       "\n",
       "    .dataframe thead th {\n",
       "        text-align: right;\n",
       "    }\n",
       "</style>\n",
       "<table border=\"1\" class=\"dataframe\">\n",
       "  <thead>\n",
       "    <tr style=\"text-align: right;\">\n",
       "      <th></th>\n",
       "      <th>indice_prix_logement_lissé</th>\n",
       "      <th>volume_transaction</th>\n",
       "      <th>taux_occupation</th>\n",
       "      <th>taux_prix_logement</th>\n",
       "      <th>taux_volume_transaction</th>\n",
       "      <th>indice_prix_logement</th>\n",
       "    </tr>\n",
       "  </thead>\n",
       "  <tbody>\n",
       "    <tr>\n",
       "      <th>count</th>\n",
       "      <td>120.000000</td>\n",
       "      <td>120.000000</td>\n",
       "      <td>120.000000</td>\n",
       "      <td>120.000000</td>\n",
       "      <td>120.000000</td>\n",
       "      <td>120.000000</td>\n",
       "    </tr>\n",
       "    <tr>\n",
       "      <th>mean</th>\n",
       "      <td>21.950000</td>\n",
       "      <td>8.908333</td>\n",
       "      <td>82.533333</td>\n",
       "      <td>0.249323</td>\n",
       "      <td>0.414598</td>\n",
       "      <td>175.350000</td>\n",
       "    </tr>\n",
       "    <tr>\n",
       "      <th>std</th>\n",
       "      <td>6.334977</td>\n",
       "      <td>3.768502</td>\n",
       "      <td>7.585849</td>\n",
       "      <td>0.028339</td>\n",
       "      <td>0.106911</td>\n",
       "      <td>31.776967</td>\n",
       "    </tr>\n",
       "    <tr>\n",
       "      <th>min</th>\n",
       "      <td>12.000000</td>\n",
       "      <td>2.000000</td>\n",
       "      <td>70.000000</td>\n",
       "      <td>0.200035</td>\n",
       "      <td>0.206257</td>\n",
       "      <td>122.000000</td>\n",
       "    </tr>\n",
       "    <tr>\n",
       "      <th>25%</th>\n",
       "      <td>17.000000</td>\n",
       "      <td>6.750000</td>\n",
       "      <td>76.000000</td>\n",
       "      <td>0.224817</td>\n",
       "      <td>0.330167</td>\n",
       "      <td>148.000000</td>\n",
       "    </tr>\n",
       "    <tr>\n",
       "      <th>50%</th>\n",
       "      <td>20.500000</td>\n",
       "      <td>9.000000</td>\n",
       "      <td>83.000000</td>\n",
       "      <td>0.251477</td>\n",
       "      <td>0.416029</td>\n",
       "      <td>174.000000</td>\n",
       "    </tr>\n",
       "    <tr>\n",
       "      <th>75%</th>\n",
       "      <td>27.250000</td>\n",
       "      <td>12.000000</td>\n",
       "      <td>89.000000</td>\n",
       "      <td>0.273903</td>\n",
       "      <td>0.496315</td>\n",
       "      <td>202.250000</td>\n",
       "    </tr>\n",
       "    <tr>\n",
       "      <th>max</th>\n",
       "      <td>33.000000</td>\n",
       "      <td>15.000000</td>\n",
       "      <td>94.000000</td>\n",
       "      <td>0.297436</td>\n",
       "      <td>0.599917</td>\n",
       "      <td>229.000000</td>\n",
       "    </tr>\n",
       "  </tbody>\n",
       "</table>\n",
       "</div>"
      ],
      "text/plain": [
       "       indice_prix_logement_lissé  volume_transaction  taux_occupation  \\\n",
       "count                  120.000000          120.000000       120.000000   \n",
       "mean                    21.950000            8.908333        82.533333   \n",
       "std                      6.334977            3.768502         7.585849   \n",
       "min                     12.000000            2.000000        70.000000   \n",
       "25%                     17.000000            6.750000        76.000000   \n",
       "50%                     20.500000            9.000000        83.000000   \n",
       "75%                     27.250000           12.000000        89.000000   \n",
       "max                     33.000000           15.000000        94.000000   \n",
       "\n",
       "       taux_prix_logement  taux_volume_transaction  indice_prix_logement  \n",
       "count          120.000000               120.000000            120.000000  \n",
       "mean             0.249323                 0.414598            175.350000  \n",
       "std              0.028339                 0.106911             31.776967  \n",
       "min              0.200035                 0.206257            122.000000  \n",
       "25%              0.224817                 0.330167            148.000000  \n",
       "50%              0.251477                 0.416029            174.000000  \n",
       "75%              0.273903                 0.496315            202.250000  \n",
       "max              0.297436                 0.599917            229.000000  "
      ]
     },
     "metadata": {},
     "execution_count": 23
    }
   ],
   "metadata": {}
  },
  {
   "cell_type": "code",
   "execution_count": 24,
   "source": [
    "import seaborn as sns\n",
    "import matplotlib.pyplot as plt"
   ],
   "outputs": [],
   "metadata": {}
  },
  {
   "cell_type": "code",
   "execution_count": 27,
   "source": [
    "donne_immobilier.shape"
   ],
   "outputs": [
    {
     "output_type": "execute_result",
     "data": {
      "text/plain": [
       "(120, 7)"
      ]
     },
     "metadata": {},
     "execution_count": 27
    }
   ],
   "metadata": {}
  },
  {
   "cell_type": "code",
   "execution_count": 28,
   "source": [
    "sns.heatmap(correlation, annot=True, cmap='coolwarm')\n",
    "plt.show()"
   ],
   "outputs": [
    {
     "output_type": "display_data",
     "data": {
      "image/png": "[encoded data removed]",
      "text/plain": [
       "<Figure size 640x480 with 2 Axes>"
      ]
     },
     "metadata": {}
    }
   ],
   "metadata": {}
  },
  {
   "cell_type": "code",
   "execution_count": 29,
   "source": [
    "donne_immobilier.info()"
   ],
   "outputs": [
    {
     "output_type": "stream",
     "name": "stdout",
     "text": [
      "<class 'pandas.core.frame.DataFrame'>\n",
      "RangeIndex: 120 entries, 0 to 119\n",
      "Data columns (total 7 columns):\n",
      " #   Column                      Non-Null Count  Dtype  \n",
      "---  ------                      --------------  -----  \n",
      " 0   indice_prix_logement_lissé  120 non-null    int32  \n",
      " 1   volume_transaction          120 non-null    int32  \n",
      " 2   taux_occupation             120 non-null    int32  \n",
      " 3   taux_prix_logement          120 non-null    float64\n",
      " 4   taux_volume_transaction     120 non-null    float64\n",
      " 5   indice_prix_logement        120 non-null    int32  \n",
      " 6   date                        120 non-null    int32  \n",
      "dtypes: float64(2), int32(5)\n",
      "memory usage: 4.3 KB\n"
     ]
    }
   ],
   "metadata": {}
  },
  {
   "cell_type": "code",
   "execution_count": 33,
   "source": [
    "\n",
    "# Visualisations\n",
    "fig, ax = plt.subplots(1, 2, figsize=(14, 6))\n",
    "\n",
    "# Indice de prix de logement vs Volume de transaction\n",
    "sns.scatterplot(x='volume_transaction', y='indice_prix_logement', data=donne_immobilier, alpha=0.5, color='red', ax=ax[0])\n",
    "ax[0].set(\n",
    "    title='Indice de prix de logement vs Volume de transaction',\n",
    "    xlabel='Volume de transaction',\n",
    "    ylabel='Indice de prix de logement'\n",
    ")\n",
    "\n",
    "# Indice de prix de logement vs Taux d'occupation\n",
    "sns.scatterplot(x='taux_occupation', y='indice_prix_logement', data=donne_immobilier, alpha=0.5, color='blue', ax=ax[1])\n",
    "ax[1].set(\n",
    "    title='Indice de prix de logement vs Taux d\\'occupation',\n",
    "    xlabel='Taux d\\'occupation',\n",
    "    ylabel='Indice de prix de logement'\n",
    ")\n",
    "\n",
    "plt.tight_layout()\n",
    "plt.show()\n",
    ""
   ],
   "outputs": [
    {
     "output_type": "display_data",
     "data": {
      "image/png": "[encoded data removed]",
      "text/plain": [
       "<Figure size 1400x600 with 2 Axes>"
      ]
     },
     "metadata": {}
    }
   ],
   "metadata": {}
  },
  {
   "cell_type": "code",
   "execution_count": 35,
   "source": [
    "# Indice de prix de logement vs Indice de prix de logement lissé\n",
    "fig, ax = plt.subplots(1,2, figsize=(14,6))\n",
    "sns.scatterplot(x='indice_prix_logement_lissé',y='indice_prix_logement', data= donne_immobilier, alpha=0.5, color='orange', ax=ax[0])\n",
    "ax[0].set(\n",
    "    title='Indice de prix de logement vs Volume de transaction',\n",
    "    xlabel='Volume de transaction',\n",
    "    ylabel='Indice de prix de logement lissé'\n",
    ")\n",
    "# Indice de prix de logement vs Taux de prix de logement\n",
    "sns.scatterplot(x='taux_prix_logement',y='indice_prix_logement', data= donne_immobilier, alpha=0.5, color='purple', ax=ax[1])\n",
    "ax[1].set(\n",
    "    title='Indice de prix de logement vs Taux de prix de logemment',\n",
    "    xlabel='Taux de prix de logement',\n",
    "    ylabel='Indice de prix de logement'\n",
    ")\n",
    "plt.tight_layout()\n",
    "plt.show()"
   ],
   "outputs": [
    {
     "output_type": "display_data",
     "data": {
      "image/png": "[encoded data removed]",
      "text/plain": [
       "<Figure size 1400x600 with 2 Axes>"
      ]
     },
     "metadata": {}
    }
   ],
   "metadata": {}
  },
  {
   "cell_type": "code",
   "execution_count": 36,
   "source": [
    "import statsmodels.api as sm\n",
    "from sklearn.model_selection import train_test_split"
   ],
   "outputs": [],
   "metadata": {}
  },
  {
   "cell_type": "code",
   "execution_count": 37,
   "source": [
    "from sklearn.metrics import mean_squared_error, mean_absolute_error"
   ],
   "outputs": [],
   "metadata": {}
  },
  {
   "cell_type": "code",
   "execution_count": 38,
   "source": [
    "# Préparation des données\n",
    "X = donne_immobilier[['indice_prix_logement_lissé', 'volume_transaction', 'taux_occupation', 'taux_prix_logement', 'taux_volume_transaction']]\n",
    "y = donne_immobilier['indice_prix_logement']\n",
    "\n",
    "# Diviser les données en ensembles d'entraînement et de test\n",
    "X_train, X_test, y_train, y_test = train_test_split(X, y, test_size=0.2, random_state=42)\n",
    "\n",
    "# Ajouter une constante pour l'interception\n",
    "X_train_const = sm.add_constant(X_train)\n",
    "X_test_const = sm.add_constant(X_test)\n",
    "\n",
    "# Ajuster le modèle de régression linéaire\n",
    "model = sm.OLS(y_train, X_train_const).fit()\n",
    "\n",
    "# Résumé du modèle\n",
    "print(model.summary())"
   ],
   "outputs": [
    {
     "output_type": "stream",
     "name": "stdout",
     "text": [
      "                             OLS Regression Results                             \n",
      "================================================================================\n",
      "Dep. Variable:     indice_prix_logement   R-squared:                       0.018\n",
      "Model:                              OLS   Adj. R-squared:                 -0.036\n",
      "Method:                   Least Squares   F-statistic:                    0.3310\n",
      "Date:                  Thu, 06 Jun 2024   Prob (F-statistic):              0.893\n",
      "Time:                          17:16:19   Log-Likelihood:                -468.56\n",
      "No. Observations:                    96   AIC:                             949.1\n",
      "Df Residuals:                        90   BIC:                             964.5\n",
      "Df Model:                             5                                         \n",
      "Covariance Type:              nonrobust                                         \n",
      "==============================================================================================\n",
      "                                 coef    std err          t      P>|t|      [0.025      0.975]\n",
      "----------------------------------------------------------------------------------------------\n",
      "const                        188.4217     52.001      3.623      0.000      85.113     291.730\n",
      "indice_prix_logement_lissé    -0.1893      0.534     -0.355      0.724      -1.250       0.871\n",
      "volume_transaction             0.7877      0.945      0.834      0.407      -1.089       2.664\n",
      "taux_occupation                0.0689      0.444      0.155      0.877      -0.814       0.951\n",
      "taux_prix_logement           -59.2679    117.611     -0.504      0.616    -292.923     174.387\n",
      "taux_volume_transaction      -22.1785     30.799     -0.720      0.473     -83.365      39.009\n",
      "==============================================================================\n",
      "Omnibus:                       24.126   Durbin-Watson:                   2.528\n",
      "Prob(Omnibus):                  0.000   Jarque-Bera (JB):                5.392\n",
      "Skew:                           0.116   Prob(JB):                       0.0675\n",
      "Kurtosis:                       1.862   Cond. No.                     3.14e+03\n",
      "==============================================================================\n",
      "\n",
      "Notes:\n",
      "[1] Standard Errors assume that the covariance matrix of the errors is correctly specified.\n",
      "[2] The condition number is large, 3.14e+03. This might indicate that there are\n",
      "strong multicollinearity or other numerical problems.\n"
     ]
    }
   ],
   "metadata": {}
  },
  {
   "cell_type": "code",
   "execution_count": 39,
   "source": [
    "# Faire des prédictions\n",
    "y_pred = model.predict(X_test_const)\n",
    "y_pred"
   ],
   "outputs": [
    {
     "output_type": "execute_result",
     "data": {
      "text/plain": [
       "44     175.774780\n",
       "47     168.544659\n",
       "4      169.633305\n",
       "55     171.561570\n",
       "26     174.195223\n",
       "64     176.861013\n",
       "73     171.749062\n",
       "10     171.454544\n",
       "40     172.559739\n",
       "107    170.952697\n",
       "18     164.163015\n",
       "62     175.023272\n",
       "11     173.767629\n",
       "36     170.699078\n",
       "89     168.525034\n",
       "91     179.413094\n",
       "109    172.579998\n",
       "0      170.021089\n",
       "88     173.795828\n",
       "104    176.606463\n",
       "65     171.635649\n",
       "45     172.417008\n",
       "31     169.062036\n",
       "70     167.010408\n",
       "dtype: float64"
      ]
     },
     "metadata": {},
     "execution_count": 39
    }
   ],
   "metadata": {}
  },
  {
   "cell_type": "code",
   "execution_count": 40,
   "source": [
    "# Évaluer le modèle\n",
    "rmse = np.sqrt(mean_squared_error(y_test, y_pred))\n",
    "mae = mean_absolute_error(y_test, y_pred)\n",
    "\n",
    "print(f'RMSE: {rmse}')\n",
    "print(f'MAE: {mae}')"
   ],
   "outputs": [
    {
     "output_type": "stream",
     "name": "stdout",
     "text": [
      "RMSE: 29.671491570617274\n",
      "MAE: 24.328585239998066\n"
     ]
    }
   ],
   "metadata": {}
  }
 ],
 "nbformat": 4,
 "nbformat_minor": 2,
 "metadata": {
  "language_info": {
   "codemirror_mode": {
    "name": "ipython",
    "version": 3
   },
   "file_extension": ".py",
   "mimetype": "text/x-python",
   "name": "python",
   "nbconvert_exporter": "python",
   "pygments_lexer": "ipython3",
   "version": 3
  },
  "orig_nbformat": 4
 }
}