{
 "cells": [
  {
   "cell_type": "code",
   "execution_count": 4,
   "metadata": {},
   "outputs": [],
   "source": [
    "# Importation des librairies\n",
    "import pandas as pd\n",
    "import statsmodels.api as sm"
   ]
  },
  {
   "cell_type": "code",
   "execution_count": 5,
   "metadata": {},
   "outputs": [
    {
     "name": "stdout",
     "output_type": "stream",
     "text": [
      "\n",
      "AFFICHAGES DES RESULTATS DE L'ETUDE\n",
      "\n",
      "Affichage de la base de données\n",
      "\n",
      "   Year   Region       CO2eq       PIB  populations   Prix_carbone  \\\n",
      "0  1997  Alberta  212.246835  184307.7       2829.8  261449.045066   \n",
      "1  1998  Alberta  213.367792  193229.9       2899.1  640240.303196   \n",
      "2  1999  Alberta  220.251063  195998.8       2952.7  326370.129542   \n",
      "3  2000  Alberta  227.744385  207779.6       3004.2  753377.061530   \n",
      "4  2001  Alberta  226.851571  211558.0       3058.1  533093.472782   \n",
      "\n",
      "   invest_energie  \n",
      "0       38.177639  \n",
      "1       31.874477  \n",
      "2        6.909596  \n",
      "3       37.325297  \n",
      "4       19.299258  \n",
      "\n"
     ]
    }
   ],
   "source": [
    "print('')\n",
    "print('AFFICHAGES DES RESULTATS DE L\\'ETUDE')\n",
    "print(\"\")\n",
    "# Importation de la base de données\n",
    "data_GES = pd.read_excel(r'c:\\Users\\ARMIDE Informatique\\Desktop\\Projet Académique\\bdd_canada.xlsx')\n",
    "print('Affichage de la base de données')\n",
    "print('')\n",
    "print(data_GES.head())\n",
    "print('')\n"
   ]
  },
  {
   "cell_type": "code",
   "execution_count": 6,
   "metadata": {},
   "outputs": [
    {
     "name": "stdout",
     "output_type": "stream",
     "text": [
      "ANALYSE ECONOMETRIQUE\n",
      "\n",
      "Regression linéaire multiple\n",
      "\n",
      "                            OLS Regression Results                            \n",
      "==============================================================================\n",
      "Dep. Variable:                  CO2eq   R-squared:                       0.773\n",
      "Model:                            OLS   Adj. R-squared:                  0.765\n",
      "Method:                 Least Squares   F-statistic:                     93.55\n",
      "Date:                Wed, 01 May 2024   Prob (F-statistic):           1.73e-34\n",
      "Time:                        12:01:20   Log-Likelihood:                -597.49\n",
      "No. Observations:                 115   AIC:                             1205.\n",
      "Df Residuals:                     110   BIC:                             1219.\n",
      "Df Model:                           4                                         \n",
      "Covariance Type:            nonrobust                                         \n",
      "==================================================================================\n",
      "                     coef    std err          t      P>|t|      [0.025      0.975]\n",
      "----------------------------------------------------------------------------------\n",
      "const             36.8853     14.376      2.566      0.012       8.395      65.376\n",
      "Prix_carbone    6.242e-06    1.7e-05      0.367      0.715   -2.75e-05       4e-05\n",
      "invest_energie     0.0968      0.317      0.305      0.761      -0.531       0.725\n",
      "PIB                0.0012   7.54e-05     16.100      0.000       0.001       0.001\n",
      "populations       -0.0452      0.004    -12.772      0.000      -0.052      -0.038\n",
      "==============================================================================\n",
      "Omnibus:                        2.670   Durbin-Watson:                   0.295\n",
      "Prob(Omnibus):                  0.263   Jarque-Bera (JB):                2.571\n",
      "Skew:                          -0.035   Prob(JB):                        0.277\n",
      "Kurtosis:                       3.729   Cond. No.                     2.11e+06\n",
      "==============================================================================\n",
      "\n",
      "Notes:\n",
      "[1] Standard Errors assume that the covariance matrix of the errors is correctly specified.\n",
      "[2] The condition number is large, 2.11e+06. This might indicate that there are\n",
      "strong multicollinearity or other numerical problems.\n"
     ]
    }
   ],
   "source": [
    "print('ANALYSE ECONOMETRIQUE')\n",
    "print('')\n",
    "\n",
    "# Données\n",
    "X = data_GES[['Prix_carbone', 'invest_energie', 'PIB', 'populations']]  # Variables explicatives\n",
    "y = data_GES['CO2eq']  # Variable dépendante\n",
    "\n",
    "# Modèle initial\n",
    "model_initial = sm.OLS(y, sm.add_constant(X)).fit()\n",
    "\n",
    "# Affichage des résultats du modèle initial\n",
    "print('Regression linéaire multiple')\n",
    "print('')\n",
    "print(model_initial.summary())"
   ]
  },
  {
   "cell_type": "code",
   "execution_count": 7,
   "metadata": {},
   "outputs": [
    {
     "name": "stdout",
     "output_type": "stream",
     "text": [
      "Affichage du test de sensibilité\n",
      "\n",
      "                            OLS Regression Results                            \n",
      "==============================================================================\n",
      "Dep. Variable:                  CO2eq   R-squared:                       0.773\n",
      "Model:                            OLS   Adj. R-squared:                  0.766\n",
      "Method:                 Least Squares   F-statistic:                     125.7\n",
      "Date:                Wed, 01 May 2024   Prob (F-statistic):           1.52e-35\n",
      "Time:                        12:01:20   Log-Likelihood:                -597.56\n",
      "No. Observations:                 115   AIC:                             1203.\n",
      "Df Residuals:                     111   BIC:                             1214.\n",
      "Df Model:                           3                                         \n",
      "Covariance Type:            nonrobust                                         \n",
      "==================================================================================\n",
      "                     coef    std err          t      P>|t|      [0.025      0.975]\n",
      "----------------------------------------------------------------------------------\n",
      "const             40.4690     10.500      3.854      0.000      19.663      61.275\n",
      "invest_energie     0.0819      0.313      0.262      0.794      -0.538       0.702\n",
      "PIB                0.0012   7.51e-05     16.173      0.000       0.001       0.001\n",
      "populations       -0.0452      0.004    -12.836      0.000      -0.052      -0.038\n",
      "==============================================================================\n",
      "Omnibus:                        2.638   Durbin-Watson:                   0.291\n",
      "Prob(Omnibus):                  0.267   Jarque-Bera (JB):                2.521\n",
      "Skew:                          -0.037   Prob(JB):                        0.284\n",
      "Kurtosis:                       3.722   Cond. No.                     8.38e+05\n",
      "==============================================================================\n",
      "\n",
      "Notes:\n",
      "[1] Standard Errors assume that the covariance matrix of the errors is correctly specified.\n",
      "[2] The condition number is large, 8.38e+05. This might indicate that there are\n",
      "strong multicollinearity or other numerical problems.\n",
      "Comparaison des coefficients :\n",
      "PIB              -5.229052e-07\n",
      "Prix_carbone               NaN\n",
      "const            -3.583685e+00\n",
      "invest_energie    1.485539e-02\n",
      "populations       3.361677e-05\n",
      "dtype: float64\n"
     ]
    }
   ],
   "source": [
    "print('Affichage du test de sensibilité')\n",
    "# Exclusion d'une variable explicative (sensibilité)\n",
    "X_sensibilite = X.drop(columns=['Prix_carbone'])  # Exclusion de la variable Variable_4\n",
    "\n",
    "# Modèle avec exclusion de la variable explicative\n",
    "model_sensibilite = sm.OLS(y, sm.add_constant(X_sensibilite)).fit()\n",
    "\n",
    "# Affichage des résultats du modèle avec exclusion de la variable explicative\n",
    "print(\"\")\n",
    "print(model_sensibilite.summary())\n",
    "\n",
    "# Comparaison des coefficients entre le modèle initial et le modèle avec exclusion\n",
    "print(\"Comparaison des coefficients :\")\n",
    "print(model_initial.params - model_sensibilite.params)"
   ]
  }
 ],
 "metadata": {
  "kernelspec": {
   "display_name": "Python 3",
   "language": "python",
   "name": "python3"
  },
  "language_info": {
   "codemirror_mode": {
    "name": "ipython",
    "version": 3
   },
   "file_extension": ".py",
   "mimetype": "text/x-python",
   "name": "python",
   "nbconvert_exporter": "python",
   "pygments_lexer": "ipython3",
   "version": "3.11.5"
  },
  "orig_nbformat": 4
 },
 "nbformat": 4,
 "nbformat_minor": 2
}
